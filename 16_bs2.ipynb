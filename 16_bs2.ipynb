{
  "nbformat": 4,
  "nbformat_minor": 0,
  "metadata": {
    "colab": {
      "name": "16_bs2.ipynb",
      "provenance": [],
      "collapsed_sections": [],
      "include_colab_link": true
    },
    "kernelspec": {
      "name": "python3",
      "display_name": "Python 3"
    },
    "language_info": {
      "name": "python"
    }
  },
  "cells": [
    {
      "cell_type": "markdown",
      "metadata": {
        "id": "view-in-github",
        "colab_type": "text"
      },
      "source": [
        "<a href=\"https://colab.research.google.com/github/ssangba02/summer-python-class/blob/main/16_bs2.ipynb\" target=\"_parent\"><img src=\"https://colab.research.google.com/assets/colab-badge.svg\" alt=\"Open In Colab\"/></a>"
      ]
    },
    {
      "cell_type": "markdown",
      "source": [
        "# 시각화"
      ],
      "metadata": {
        "id": "t5Tz99EcNJyg"
      }
    },
    {
      "cell_type": "code",
      "source": [
        "#한글 폰트 사용설치\n",
        "%config InlineBackend.figure_format = 'retina'\n",
        "\n",
        "!apt -qq -y install fonts-nanum"
      ],
      "metadata": {
        "colab": {
          "base_uri": "https://localhost:8080/"
        },
        "id": "BN9YBy0VNIcI",
        "outputId": "13affd5f-89ab-4471-f98b-9e3b164e8e12"
      },
      "execution_count": 1,
      "outputs": [
        {
          "output_type": "stream",
          "name": "stdout",
          "text": [
            "The following package was automatically installed and is no longer required:\n",
            "  libnvidia-common-460\n",
            "Use 'apt autoremove' to remove it.\n",
            "The following NEW packages will be installed:\n",
            "  fonts-nanum\n",
            "0 upgraded, 1 newly installed, 0 to remove and 19 not upgraded.\n",
            "Need to get 9,604 kB of archives.\n",
            "After this operation, 29.5 MB of additional disk space will be used.\n",
            "Selecting previously unselected package fonts-nanum.\n",
            "(Reading database ... 155680 files and directories currently installed.)\n",
            "Preparing to unpack .../fonts-nanum_20170925-1_all.deb ...\n",
            "Unpacking fonts-nanum (20170925-1) ...\n",
            "Setting up fonts-nanum (20170925-1) ...\n",
            "Processing triggers for fontconfig (2.12.6-0ubuntu2) ...\n"
          ]
        }
      ]
    },
    {
      "cell_type": "code",
      "source": [
        "import matplotlib.pyplot as plt\n",
        "import matplotlib as mpl\n",
        "import matplotlib.font_manager as fm\n",
        "\n",
        "import seaborn as sns\n",
        "\n",
        "fontpath = '/usr/share/fonts/truetype/nanum/NanumBarunGothic.ttf'\n",
        "font = fm.FontProperties(fname=fontpath, size=9)\n",
        "plt.rc('font', family='NanumBarunGothic') \n",
        "mpl.font_manager._rebuild()"
      ],
      "metadata": {
        "id": "5X1zb2OhNO1q"
      },
      "execution_count": 1,
      "outputs": []
    },
    {
      "cell_type": "code",
      "source": [
        "plt.title('한글')\n",
        "plt.show()"
      ],
      "metadata": {
        "colab": {
          "base_uri": "https://localhost:8080/",
          "height": 280
        },
        "id": "VDUSmcTlNZRW",
        "outputId": "7366ea23-b6cb-4090-d474-37af990c9b36"
      },
      "execution_count": 2,
      "outputs": [
        {
          "output_type": "display_data",
          "data": {
            "text/plain": [
              "<Figure size 432x288 with 1 Axes>"
            ],
            "image/png": "[encoded data removed]"
          },
          "metadata": {
            "needs_background": "light"
          }
        }
      ]
    },
    {
      "cell_type": "markdown",
      "metadata": {
        "id": "ujvDcnX-o9-W"
      },
      "source": [
        "🏷️ **웹 동작원리**\n",
        "\n",
        "\n",
        "---\n",
        "<img src ='https://drive.google.com/uc?export=view&id=1amZ78fUnfp3o5Q1XVKDG3eAAzKaYlPrp'>\n",
        "\n",
        "---"
      ]
    },
    {
      "cell_type": "markdown",
      "metadata": {
        "id": "yaRwPjIG0UbX"
      },
      "source": [
        "# Beautiful Soup 모듈\n",
        "+ HTML 및 XML 문서 를 구문 분석하기 위한 Python 패키지\n",
        "+ DOM 추출\n",
        "+ 기본적으로 UTF-8 인코딩 방식이지만 CP949도 지원"
      ]
    },
    {
      "cell_type": "markdown",
      "metadata": {
        "id": "qXgcvJCO1XM6"
      },
      "source": [
        "🏷️ **웹 스크래핑(Web Scraping)과 웹 크롤링(Web Crawling)**\n",
        "\n",
        "\n",
        "---\n",
        "+ 웹 스크래핑(Web Scraping) : 웹 사이트 상에서 원하는 정보를 추출하는 기술\n",
        "+ 웹 크롤링(Web Crawling) : 웹 크롤러(자동화봇)가정해진 규칙에 따라 웹 페이지를 수집해서 각 사이트의 정보를 분류하는 기술\n",
        "\n",
        "\n",
        "\n",
        "\n",
        "---\n",
        "\n",
        "\n"
      ]
    },
    {
      "cell_type": "markdown",
      "metadata": {
        "id": "7U-axA1K3yaR"
      },
      "source": [
        "## BeautifulSoup 모듈을 활용한 스크래핑"
      ]
    },
    {
      "cell_type": "code",
      "source": [
        "from urllib.request import urlopen\n",
        "from bs4 import BeautifulSoup as bs"
      ],
      "metadata": {
        "id": "ZFNPLAHkM7J4"
      },
      "execution_count": 3,
      "outputs": []
    },
    {
      "cell_type": "code",
      "source": [
        "import pandas as pd"
      ],
      "metadata": {
        "id": "B8xoalu-M-Fx"
      },
      "execution_count": 33,
      "outputs": []
    },
    {
      "cell_type": "markdown",
      "metadata": {
        "id": "a2-66aK64FqU"
      },
      "source": [
        "### 1. 웹 페이지 가져오기"
      ]
    },
    {
      "cell_type": "code",
      "metadata": {
        "colab": {
          "base_uri": "https://localhost:8080/",
          "height": 109
        },
        "id": "qSqcLjpt0NZH",
        "outputId": "7dd1c789-15cd-43a0-90fc-6b16a7b6df89"
      },
      "source": [
        "from urllib.request import urlopen\n",
        "\n",
        "url = 'https://movie.naver.com/movie/point/af/list.naver'\n",
        "webpage =  urlopen(url).read().decode()\n",
        "webpage"
      ],
      "execution_count": 11,
      "outputs": [
        {
          "output_type": "execute_result",
          "data": {
            "text/plain": [
              "'\\r\\n\\r\\n\\r\\n\\r\\n\\r\\n\\r\\n\\r\\n\\r\\n\\r\\n\\r\\n\\t\\r\\n\\t\\r\\n\\t\\r\\n\\t\\r\\n\\t\\r\\n\\r\\n\\t\\r\\n\\t\\r\\n\\r\\n\\r\\n\\t\\r\\n\\t\\r\\n\\t\\r\\n\\t\\r\\n\\t\\r\\n\\t\\r\\n\\t\\r\\n\\t\\r\\n\\t\\r\\n\\t\\r\\n\\t\\r\\n\\t\\r\\n\\r\\n\\t\\r\\n\\t\\r\\n\\t\\r\\n\\t\\r\\n\\t\\r\\n\\r\\n\\t\\r\\n\\t\\r\\n\\t\\r\\n\\r\\n\\t\\r\\n\\t\\r\\n\\t\\r\\n\\r\\n\\r\\n\\t\\r\\n\\t\\r\\n\\t\\r\\n\\t\\r\\n\\t\\t\\r\\n\\t\\t\\t\\r\\n\\t\\t\\t\\t\\r\\n\\t\\t\\t\\r\\n\\t\\t\\t\\r\\n\\t\\t\\t\\r\\n\\t\\t\\t\\r\\n\\t\\t\\r\\n\\t\\r\\n\\t\\r\\n\\t\\t\\r\\n\\t\\r\\n\\r\\n<!DOCTYPE html>\\r\\n<html lang=\"ko\">\\r\\n<head>\\r\\n<meta http-equiv=\"Content-Type\" content=\"text/html; charset=UTF-8\">\\r\\n<meta http-equiv=\"X-UA-Compatible\" content=\"IE=edge\">\\r\\n\\r\\n\\r\\n\\r\\n\\r\\n\\r\\n\\r\\n<meta property=\"me2:image\" content=\"http://imgmovie.naver.com/today/naverme/naverme_profile.jpg\"/>\\r\\n<meta property=\"me2:post_tag\" content=\"네이버영화 \"/>\\r\\n<meta property=\"me2:category1\" content=\"네이버영화\"/>\\r\\n<meta property=\"me2:category2\" content=\"\"/>\\r\\n\\r\\n\\r\\n\\r\\n\\r\\n\\r\\n\\t\\r\\n\\t\\r\\n\\t\\r\\n\\t\\r\\n\\t\\t<meta property=\"og:title\" content=\"평점 : 네이버 영화\"/>\\r\\n\\t\\t<meta property=\"og:description\" content=\"네티즌 평점과 리뷰 정보 제공\"/>\\r\\n\\t\\r\\n\\t\\r\\n\\t\\r\\n\\r\\n\\r\\n<meta property=\"og:type\" content=\"article\"/>\\r\\n<meta property=\"og:url\" content=\"https://movie.naver.com/movie/point/af/list.naver\"/>\\r\\n\\r\\n\\t\\r\\n\\t\\r\\n\\t\\t<meta property=\"og:image\" content=\"http://static.naver.net/m/movie/icons/OG_270_270.png\"/><!-- http://static.naver.net/m/movie/im/navermovie.jpg -->\\r\\n\\t\\r\\n\\r\\n\\r\\n<meta property=\"og:article:thumbnailUrl\" content=\"http://imgmovie.naver.com/today/naverme/naverme_profile.jpg\"/>\\r\\n<meta property=\"og:article:author\" content=\"네이버 영화\"/>\\r\\n<meta property=\"og:article:author:url\" content=\"https://movie.naver.com/\"/>\\r\\n\\r\\n\\r\\n\\n\\n\\n\\t\\n\\t\\n\\t\\n\\t\\n\\t\\t<link rel=\"shortcut icon\" href=\"https://ssl.pstatic.net/static/m/movie/icons/naver_movie_favicon.ico\" type=\"image/x-icon\">\\n\\t\\t\\t\\n\\n\\r\\n<title>네티즌 평점 : 네이버 영화</title>\\r\\n\\r\\n\\r\\n\\r\\n\\r\\n\\r\\n\\t\\r\\n\\t\\r\\n\\t\\r\\n\\t\\r\\n\\t\\r\\n\\t\\r\\n\\t\\t\\r\\n\\t\\t<link rel=\"stylesheet\" type=\"text/css\" href=\"/common/css/movie_tablet.css?20220628174447\">\\r\\n\\t\\t<link rel=\"stylesheet\" type=\"text/css\" href=\"/common/css/common.css?20220628174447\">\\r\\n\\t\\t<link rel=\"stylesheet\" type=\"text/css\" href=\"/common/css/layout.css?20220628174447\">\\r\\n\\t\\t<link rel=\"stylesheet\" type=\"text/css\" href=\"/common/css/old_default.css?20220628174447\">\\r\\n\\t\\t<link rel=\"stylesheet\" type=\"text/css\" href=\"/common/css/old_layout.css?20220628174447\">\\r\\n\\t\\t<link rel=\"stylesheet\" type=\"text/css\" href=\"/common/css/old_common.css?20220628174447\">\\t\\r\\n\\t\\t<link rel=\"stylesheet\" type=\"text/css\" href=\"/common/css/old_community.css?20220628174447\">\\r\\n\\t\\r\\n\\t\\r\\n\\t\\r\\n\\r\\n\\r\\n<script type=\"text/javascript\" src=\"/common/js/default-min.js\"></script>\\r\\n<script language=\"JavaScript\" src=\"/common/js/jindo2.js\"></script>\\n<script language=\"JavaScript\" src=\"/common/js/pwm.js\"></script>\\n<script type=\"text/javascript\">\\n\\n\\tvar pwmManager = new PwmManager();\\n\\t\\n\\tfunction find_list(st, sword) {\\n\\t\\tlocation.href = \"/movie/point/af/list.naver?st=nickname&sword=\" + sword;\\n\\t}\\n\\t\\n\\tfunction login_check() {\\n\\t\\tif(\"\" == \"\"){\\n\\t\\t\\tif(confirm(\"로그인이 필요합니다. 로그인 하시겠습니까?\")){\\n\\t\\t\\t\\tgoLogin();\\n\\t\\t\\t}\\n\\t\\t\\treturn false;\\n\\t\\t}\\n\\t}\\n\\t\\n\\tfunction goLogin() {\\n\\t\\tlocation.href=\"https://nid.naver.com/nidlogin.login?mode=form&url=\"+encodeURIComponent(location.href);\\n\\t}\\n\\t\\n\\tfunction deletePoint(nid, target) {\\n\\t\\tif( \\'Y\\' == \\'N\\' || \\'Y\\' == \\'G\\' ) {\\n\\t\\t\\topenNotify(\\'Y\\', \\'\\');\\n\\t\\t\\treturn;\\n\\t\\t}\\n\\t\\t\\n\\t\\tvar tmp = document.delete_point_form;\\n\\t\\ttmp.target.value = target;\\n\\t\\ttmp.nid.value = nid;\\n\\t\\t\\n\\t\\tif(confirm(\"사용자 삭제시 복원 할 수 없습니다.정말로 삭제 하시겠습니까?\")){\\n\\t\\t\\ttmp.submit();\\n\\t\\t}\\n\\t\\treturn;\\n\\t}\\n\\t\\n\\tvar gradePopupWin;\\n\\tfunction openRulePopup() {\\n\\t\\tif (screen === undefined || screen.availHeight === undefined || screen.availHeight > 800) {\\n\\t\\t\\tgradePopupWin = window.open(\"/movie/board/popup/board_rule.naver\", \"gradePopup\", \"width=550, height=800, history=no, resizable=no, scrollbars=yes, status=no, menubar=no, toolbar=no\");\\n\\t\\t} else {\\n\\t\\t\\tgradePopupWin = window.open(\"/movie/board/popup/board_rule.naver\", \"gradePopup\", \"width=550, height=560, history=no, resizable=no, scrollbars=yes, status=no, menubar=no, toolbar=no\");\\n\\t\\t}\\n\\t\\t\\n\\t\\tif (gradePopupWin) {\\n\\t\\t\\tgradePopupWin.focus();\\n\\t\\t}\\n\\t}\\n\\t\\n\\n\\n</script>\\r\\n</head>\\r\\n<body >\\r\\n\\r\\n\\r\\n\\t\\r\\n\\t\\r\\n\\t\\r\\n\\t\\r\\n\\t\\r\\n\\t\\t\\r\\n\\t\\r\\n\\r\\n<div id=\"wrap\" class=\"fix\">\\r\\n\\t<!-- GNB -->\\r\\n\\t\\r\\n\\r\\n\\r\\n\\r\\n\\r\\n\\r\\n<script type=\"text/javascript\">\\r\\nfunction delayed_submit(object) {\\r\\n\\tif (navigator.userAgent.indexOf(\\'MSIE\\') == -1) {\\r\\n\\t\\tvar b = c = new Date();\\r\\n      \\twhile ((b.getTime() - c.getTime()) < 100) {\\r\\n\\t\\t\\tb = new Date();\\r\\n      \\t}\\r\\n\\t\\t//window.setTimeout(function() {object.submit(); console.log(\\'s\\');}, 300);\\r\\n\\t}\\r\\n}\\r\\nvar gnb_service = \\'movie\\';\\r\\nvar gnb_logout = \\'http://movie.naver.com/movie/point/af/list.naver\\';\\r\\nvar gnb_template = \"gnb_utf8\"; /* https://ssl.pstatic.net/static.gn/templates/gnb_utf8.nhn */\\r\\nvar gnb_brightness=3;\\r\\nvar gnb_response = true;\\r\\n</script>\\r\\n\\r\\n\\r\\n\\t\\r\\n\\t\\r\\n\\r\\n<a name=\"gnb_top\"></a>\\r\\n    <!-- skip navigation -->\\r\\n    <div id=\"u_skip\">\\r\\n            <a href=\"#header\" onclick=\"document.getElementById(\\'header\\').tabIndex=-1;document.getElementById(\\'header\\').focus();return false;\"><span>메인 메뉴로 바로가기</span></a>\\r\\n            <a href=\"#content\" id=\"gnb_goContent\" onclick=\"document.getElementById(\\'content\\').tabIndex=-1;document.getElementById(\\'content\\').focus();return false;\"><span>본문으로 바로가기</span></a>\\r\\n    </div>\\r\\n    <!-- //skip navigation -->\\r\\n\\t<!-- GNB -->\\r\\n\\t<div class=\"gnb_container\">\\r\\n\\t\\t<div class=\"gnb_content\">\\r\\n\\t\\t\\t<div class=\"gnb_box\">\\r\\n\\t\\t\\t \\t<div class=\"gnb_wrap\">\\r\\n\\t\\t\\t\\t\\t<div id=\"gnb\" onload=\"javascript:getGNB();\">\\r\\n\\t\\t\\t\\t   \\t \\t<script type=\"text/javascript\" charset=\"utf-8\" src=\"https://ssl.pstatic.net/static.gn/templates/gnb_utf8.nhn\"></script>\\r\\n\\t\\t\\t\\t\\t</div>\\r\\n\\t\\t\\t\\t</div>\\r\\n\\t\\t\\t\\t<!-- 검색창 -->\\r\\n\\t\\t\\t\\t<form id=\"jSearchForm\" action=\"/movie/search/result.naver\" method=\"get\" style=\"margin:0;display:none;\">\\r\\n\\t\\t\\t\\t\\t<input type=\"text\" name=\"query\" maxlength=\"100\" title=\"영화검색\" />\\r\\n\\t\\t\\t\\t\\t<input type=\"hidden\" name=\"section\" value=\"all\"/>\\r\\n\\t\\t\\t\\t</form>\\r\\n\\t\\t\\t\\t<fieldset id=\"jSearchArea\" class=\"srch_area\">\\r\\n\\t\\t\\t\\t\\t<legend><span class=\"blind\">영화검색 영역</span></legend>\\r\\n\\t\\t\\t\\t\\t<div class=\"srch_field_on _view\">\\r\\n\\t\\t\\t\\t\\t\\t<span class=\"ipt_srch\">\\r\\n\\t\\t\\t\\t\\t\\t\\t<label for=\"ipt_tx_srch\" id=\"search_placeholder\">영화검색</label>\\r\\n\\t\\t\\t\\t\\t\\t\\t<input type=\"text\" id=\"ipt_tx_srch\" class=\"ipt_tx_srch\" name=\"query\" maxlength=\"100\" accesskey=\"s\" style=\"ime-mode:active;\" autocomplete=\"off\" />\\r\\n\\t\\t\\t\\t\\t\\t\\t<span class=\"align\"></span>\\r\\n\\t\\t\\t\\t\\t\\t\\t<span class=\"auto_tx\"><a href=\"#\" title=\"자동완성 펼치기\"><img src=\"https://ssl.pstatic.net/static/movie/2012/06/srch_arrow_down.gif\" width=\"7\" height=\"4\" title=\"자동완성 펼치기\" alt=\"자동완성 펼치기\" /></a></span>\\r\\n\\t\\t\\t\\t\\t\\t</span>\\r\\n\\t\\t\\t\\t\\t\\t<button type=\"submit\" title=\"검색\" class=\"btn_srch\" onclick=\"clickcr(this, \\'GNB.search\\', \\'\\', \\'\\', event); delayed_submit(this);\"><span class=\"blind\">검색</span></button>\\r\\n\\t\\t\\t\\t\\t\\t <!-- 자동 완성 영역임 #autocomplate_template-->\\r\\n\\t\\t\\t\\t\\t</div>\\r\\n\\t\\t\\t\\t</fieldset>\\r\\n\\t\\t\\t\\t<!-- //검색창 -->\\r\\n\\t\\t\\t</div>\\r\\n\\t\\t</div>\\r\\n\\t</div>\\r\\n\\t<!-- //GNB -->\\r\\n\\t<!-- nClicks -->\\r\\n\\t\\r\\n\\t\\t\\r\\n\\t\\t\\r\\n\\t\\t\\r\\n\\t\\t\\r\\n\\t\\t\\t<script type=\"text/javascript\">var nsc = \"movie.comm\";</script>\\r\\n\\t\\t\\t<script type=\"text/javascript\" src=\"/common/js/clickcr.js\"></script>\\r\\n\\t\\t\\r\\n\\t\\t\\t\\t\\r\\n\\t\\t\\r\\n\\t\\t\\r\\n\\t\\t\\r\\n\\t\\t\\r\\n\\t\\t\\r\\n\\t\\t\\r\\n\\t\\t\\r\\n\\t\\t\\r\\n\\t\\r\\n\\t<!-- // nClicks -->\\t\\r\\n\\t<!-- //GNB -->\\r\\n\\t\\r\\n\\t<!-- LNB -->\\r\\n\\t\\n\\n\\n\\n\\t<!-- header -->\\n\\t<div id=\"header\">\\n\\t\\t<h1 class=\"svc_name\">\\n\\t\\t\\t<a href=\"http://www.naver.com/\" title=\"naver로 바로가기\" class=\"ci_logo\" id=\"lnb_gonaver\" onclick=\"clickcr(this, \\'LNB.naver\\', \\'\\', \\'\\', event);\"><img src=\"https://ssl.pstatic.net/static/movie/2013/07/logo_ci.png\" width=\"62\" height=\"13\" alt=\"NAVER\" /></a>\\n\\t\\t\\t<a href=\"/\" title=\"영화서비스홈으로 바로가기\" class=\"svc_logo\" onclick=\"clickcr(this, \\'LNB.movie\\', \\'\\', \\'\\', event);\"><img src=\"https://ssl.pstatic.net/static/movie/2012/06/logo_svc.png\" width=\"34\" height=\"19\" alt=\"영화\" /></a>\\n\\t\\t</h1>\\n\\t\\t<div id=\"scrollbar\" class=\"scrollbar scrollbar-noscript\">\\n\\t\\t\\t<div class=\"scrollbar-box\">\\n\\t\\t\\t\\t<div class=\"scrollbar-content\">\\n\\t\\t\\t\\t\\t<div class=\"in_scroll\">\\n\\t\\t\\t\\t\\t\\t<ul class=\"navi\">\\n\\t\\t\\t\\t\\t\\t<li>\\n\\t\\t\\t\\t\\t\\t\\t<a href=\"/\" title=\"영화홈\" class=\"menu01\" onclick=\"clickcr(this, \\'LNB.home\\', \\'\\', \\'\\', event);\"><strong>영화홈</strong></a>\\n\\t\\t\\t\\t\\t\\t</li>\\n\\t\\t\\t\\t\\t\\t<li>\\n\\t\\t\\t\\t\\t\\t\\t<a href=\"/movie/running/current.naver\" title=\"상영작·예정작\" class=\"menu02\" onclick=\"clickcr(this, \\'LNB.movies\\', \\'\\', \\'\\', event);\"><strong>상영작·예정작</strong></a>\\n\\t\\t\\t\\t\\t\\t\\t<ul class=\"navi_sub\" style=\"display:none\">\\n\\t\\t\\t\\t\\t\\t\\t<li><a href=\"/movie/running/current.naver\" title=\"현재 상영영화\" class=\"sub2_1\" onclick=\"clickcr(this, \\'LNB.now\\', \\'\\', \\'\\', event);\"><em>현재 상영영화</em></a></li>\\n\\t\\t\\t\\t\\t\\t\\t<li><a href=\"/movie/running/premovie.naver\" title=\"개봉 예정영화\" class=\"sub2_2\" onclick=\"clickcr(this, \\'LNB.soon\\', \\'\\', \\'\\', event);\"><em>개봉 예정영화</em></a></li>\\n\\t\\t\\t\\t\\t\\t\\t<li><a href=\"/movie/running/movieclip.naver\" title=\"예고편\" class=\"sub2_4\" onclick=\"clickcr(this, \\'LNB.tailer\\', \\'\\', \\'\\', event);\"><em>예고편</em></a></li>\\n\\t\\t\\t\\t\\t\\t\\t</ul>\\n\\t\\t\\t\\t\\t\\t</li>\\n\\t\\t\\t\\t\\t\\t<li>\\n\\t\\t\\t\\t\\t\\t\\t<a href=\"/movie/sdb/rank/rmovie.naver\" title=\"영화랭킹\" class=\"menu03\" onclick=\"clickcr(this, \\'LNB.db\\', \\'\\', \\'\\', event);\"><strong>영화랭킹</strong></a>\\n\\t\\t\\t\\t\\t\\t\\t<ul class=\"navi_sub\" style=\"display:none\">\\n\\t\\t\\t\\t\\t\\t\\t<li><a href=\"/movie/sdb/rank/rmovie.naver\" title=\"랭킹\" class=\"sub3_1\" onclick=\"clickcr(this, \\'LNB.rank\\', \\'\\', \\'\\', event);\"><em>랭킹</em></a></li>\\n\\t\\t\\t\\t\\t\\t\\t<li><a href=\"/movie/sdb/browsing/bmovie_nation.naver\" title=\"디렉토리\" class=\"sub3_2\" onclick=\"clickcr(this, \\'LNB.dir\\', \\'\\', \\'\\', event);\"><em>디렉토리</em></a></li>\\n\\t\\t\\t\\t\\t\\t\\t</ul>\\n\\t\\t\\t\\t\\t\\t</li>\\n\\n\\n\\t\\t\\t\\t\\t\\t<li>\\n\\t\\t\\t\\t\\t\\t\\t<a href=\"/movie/point/af/list.naver\" title=\"평점\" class=\"menu07_on\" onclick=\"clickcr(this, \\'LNB.comm\\', \\'\\', \\'\\', event);\"><strong>평점</strong></a>\\n                            <ul class=\"navi_sub\" style=\"display:block\">\\n                                <li><a href=\"/movie/point/af/list.naver\" title=\"네티즌 평점\" class=\"sub7_1_on\" onclick=\"clickcr(this, \\'LNB.rating\\', \\'\\', \\'\\', event);\"><em>네티즌 평점</em></a></li>\\n                                <li><a href=\"/movie/board/review/list.naver\" title=\"네티즌 리뷰\" class=\"sub7_2\" onclick=\"clickcr(this, \\'LNB.review\\', \\'\\', \\'\\', event);\"><em>네티즌 리뷰</em></a></li>\\n                                \\n                            </ul>\\n\\t\\t\\t\\t\\t\\t</li>\\n\\t\\t\\t\\t\\t\\t<li>\\n\\t\\t\\t\\t\\t\\t\\t<a href=\"http://serieson.naver.com/movie/home.nhn\" title=\"다운로드\" class=\"menu08\" onclick=\"clickcr(this, \\'LNB.download\\', \\'\\', \\'\\', event);\" target=\"_blank\"><strong>다운로드</strong></a>\\n\\t\\t\\t\\t\\t\\t</li>\\n\\t\\t\\t\\t\\t\\t<li class=\"nav_indi\">\\n\\t\\t\\t\\t\\t\\t        <a href=\"http://tv.naver.com/indiecinema\" title=\"인디극장 UP\" target=\"_blank\"><strong>인디극장 UP</strong></a><!-- N=a:LNB.indie -->\\n\\t\\t\\t\\t\\t\\t</li>\\t\\t\\t\\t\\t\\t\\n\\t\\t\\t\\t\\t\\t</ul>\\n\\t\\t\\t\\t\\t\\t<!-- div class=\"view_mode\">\\n\\t\\t\\t\\t\\t\\t\\t<a href=\"#\" title=\"\" class=\"normal_on\"><em>1단 보기</em></a>\\n\\t\\t\\t\\t\\t\\t\\t<a href=\"#\" title=\"\" class=\"wide_off\"><em>2단 보기</em></a>\\n\\t\\t\\t\\t\\t\\t</div -->\\n\\t\\t\\t\\t\\t</div>\\n\\t\\t\\t\\t</div>\\n\\t\\t\\t</div>\\n\\t\\t\\t<div class=\"scrollbar-v\">\\n\\t\\t\\t\\t<div class=\"scrollbar-button-up\"></div>\\n\\t\\t\\t\\t<div class=\"scrollbar-track\">\\n\\t\\t\\t\\t\\t<div class=\"scrollbar-thumb\"></div>\\n\\t\\t\\t\\t</div>\\n\\t\\t\\t\\t<div class=\"scrollbar-button-down\"></div>\\n\\t\\t\\t</div>\\n\\t\\t</div>\\n\\t</div>\\n\\t<!-- //header -->\\r\\n\\t<!-- //LNB -->\\r\\n\\t\\r\\n\\t<div id=\"container\">\\r\\n\\t\\t<!-- content -->\\r\\n\\t\\t<div id=\"content\">\\r\\n\\t\\t\\t<div class=\"article\">\\r\\n\\t\\t\\t\\r\\n\\t\\t\\t\\t<div class=\"old_layout old_community\">\\r\\n\\r\\n\\t\\t\\t\\t\\r\\n\\t\\t\\t\\t\\r\\n\\r\\n\\t\\t\\t\\t<!-- Content Body -->\\r\\n\\t\\t\\t\\t<div id=\"cbody\" class=\"type_1\">\\r\\n\\t\\t\\t\\t\\r\\n\\t\\t\\t\\t\\t<div id=\"old_content\">\\r\\n\\t\\t\\t\\t\\t<form name=\"delete_point_form\" method=\"post\" action=\"dpoint.naver\">\\n\\t\\t<input type=\"hidden\" name=\"queryString\" value=\"target=after&page=1\"/>\\n\\t\\t<input type=\"hidden\" name=\"target\" value=\"after\"/>\\n\\t\\t<input type=\"hidden\" name=\"nid\"/>\\n\\t</form>\\n\\n\\t<h4 class=\"tlt\"><img src=\"https://ssl.pstatic.net/static/movie/2019/09/tlt_netizen_grad_2.png\" alt=\"네티즌 관람객 평점\" width=\"116\" height=\"15\"></h4>\\n\\t<div class=\"choice_movie_box\">\\n\\t\\t\\n\\t\\t\\n\\t\\t\\t\\n\\t\\t<!-- 영화선택 -->\\n\\t\\t<div class=\"choice_movie\">\\n\\t\\t<span class=\"fl\">\\n\\t\\t<label for=\"current_movie\"><img src=\"https://ssl.pstatic.net/static/movie/2019/09/txt_review_3.png\" alt=\"현재 상영작 평점보기\" width=\"105\" height=\"14\"></label><br>\\n\\t\\t<select id=\"current_movie\" size=\"1\" name=\"\" style=\"width:250px;\" class=\"select_type_1\" onChange=\"javascript:find_list(\\'mcode\\',this.options[selectedIndex].value);\">\\n\\t\\t\\t\\t<option>현재 상영작</option>\\n\\t\\t\\t\\t\\n\\t\\t\\t\\t\\t<option value=\"195758\">헌트</option>\\n\\t\\t\\t\\t\\n\\t\\t\\t\\t\\t<option value=\"217035\">DC 리그 오브 슈퍼-펫</option>\\n\\t\\t\\t\\t\\n\\t\\t\\t\\t\\t<option value=\"218758\">극장판 살아남기 시리즈: 인체에서 살아남기</option>\\n\\t\\t\\t\\t\\n\\t\\t\\t\\t\\t<option value=\"206656\">베르히만 아일랜드</option>\\n\\t\\t\\t\\t\\n\\t\\t\\t\\t\\t<option value=\"206685\">보일링 포인트</option>\\n\\t\\t\\t\\t\\n\\t\\t\\t\\t\\t<option value=\"184519\">비상선언</option>\\n\\t\\t\\t\\t\\n\\t\\t\\t\\t\\t<option value=\"218980\">극장판 도라에몽: 진구의 우주소전쟁 리틀스타워즈 2021</option>\\n\\t\\t\\t\\t\\n\\t\\t\\t\\t\\t<option value=\"213481\">뽀로로 극장판 드래곤캐슬 대모험</option>\\n\\t\\t\\t\\t\\n\\t\\t\\t\\t\\t<option value=\"209724\">초록밤</option>\\n\\t\\t\\t\\t\\n\\t\\t\\t\\t\\t<option value=\"202678\">배드 럭 뱅잉</option>\\n\\t\\t\\t\\t\\n\\t\\t\\t\\t\\t<option value=\"180157\">임파서블 러브</option>\\n\\t\\t\\t\\t\\n\\t\\t\\t\\t\\t<option value=\"194196\">한산: 용의 출현</option>\\n\\t\\t\\t\\t\\n\\t\\t\\t\\t\\t<option value=\"213404\">비욘드 라이브 더 무비 : 엑소의 사다리 타고 세계여행3</option>\\n\\t\\t\\t\\t\\n\\t\\t\\t\\t\\t<option value=\"213510\">아이를 위한 아이</option>\\n\\t\\t\\t\\t\\n\\t\\t\\t\\t\\t<option value=\"191634\">미니언즈2</option>\\n\\t\\t\\t\\t\\n\\t\\t\\t\\t\\t<option value=\"192151\">외계+인 1부</option>\\n\\t\\t\\t\\t\\n\\t\\t\\t\\t\\t<option value=\"199004\">썸머 필름을 타고!</option>\\n\\t\\t\\t\\t\\n\\t\\t\\t\\t\\t<option value=\"213542\">스파이형 모델</option>\\n\\t\\t\\t\\t\\n\\t\\t\\t\\t\\t<option value=\"207922\">로스트 도터</option>\\n\\t\\t\\t\\t\\n\\t\\t\\t\\t\\t<option value=\"192053\">군다</option>\\n\\t\\t\\t\\t\\n\\t\\t\\t\\t\\t<option value=\"217719\">명탐정 코난: 할로윈의 신부</option>\\n\\t\\t\\t\\t\\n\\t\\t\\t\\t\\t<option value=\"217472\">엘비스</option>\\n\\t\\t\\t\\t\\n\\t\\t\\t\\t\\t<option value=\"216027\">멘</option>\\n\\t\\t\\t\\t\\n\\t\\t\\t\\t\\t<option value=\"213471\">체리마호: 30살까지 동정이면 마법사가 될 수 있대</option>\\n\\t\\t\\t\\t\\n\\t\\t\\t\\t\\t<option value=\"26545\">큐어</option>\\n\\t\\t\\t\\t\\n\\t\\t\\t\\t\\t<option value=\"187347\">토르: 러브 앤 썬더</option>\\n\\t\\t\\t\\t\\n\\t\\t\\t\\t\\t<option value=\"217742\">프리! 더 파이널 스트로크 후편</option>\\n\\t\\t\\t\\t\\n\\t\\t\\t\\t\\t<option value=\"208431\">컴온 컴온</option>\\n\\t\\t\\t\\t\\n\\t\\t\\t\\t\\t<option value=\"217081\">보통의 용기</option>\\n\\t\\t\\t\\t\\n\\t\\t\\t\\t\\t<option value=\"198413\">헤어질 결심</option>\\n\\t\\t\\t\\t\\n\\t\\t\\t\\t\\t<option value=\"198472\">니얼굴</option>\\n\\t\\t\\t\\t\\n\\t\\t\\t\\t\\t<option value=\"208144\">모어</option>\\n\\t\\t\\t\\t\\n\\t\\t\\t\\t\\t<option value=\"81888\">탑건: 매버릭</option>\\n\\t\\t\\t\\t\\n\\t\\t\\t\\t\\t<option value=\"216272\">경아의 딸</option>\\n\\t\\t\\t\\t\\n\\t\\t\\t\\t\\t<option value=\"210031\">실종</option>\\n\\t\\t\\t\\t\\n\\t\\t\\t\\t\\t<option value=\"196854\">브로커</option>\\n\\t\\t\\t\\t\\n\\t\\t\\t\\t\\t<option value=\"206637\">애프터 양</option>\\n\\t\\t\\t\\t\\n\\t\\t\\t\\t\\t<option value=\"208772\">카시오페아</option>\\n\\t\\t\\t\\t\\n\\t\\t\\t\\t\\t<option value=\"192608\">범죄도시2</option>\\n\\t\\t\\t\\t\\n\\t\\t\\t\\t\\t<option value=\"207202\">아치의 노래, 정태춘</option>\\n\\t\\t\\t\\t\\n\\t\\t\\t\\t\\t<option value=\"202675\">우연과 상상</option>\\n\\t\\t\\t\\t\\n\\t\\t\\t\\t\\t<option value=\"206217\">평평남녀</option>\\n\\t\\t\\t\\t\\n\\t\\t\\t\\t\\t<option value=\"212159\">소설가의 영화</option>\\n\\t\\t\\t\\t\\n\\t\\t\\t\\t\\t<option value=\"17059\">중경삼림</option>\\n\\t\\t\\t\\t\\n\\t\\t\\t\\t\\t<option value=\"203618\">드라이</option>\\n\\t\\t\\t\\t\\n\\t\\t\\t\\t\\t<option value=\"194668\">보드랍게</option>\\n\\t\\t\\t\\t\\n\\t\\t\\t\\t\\t<option value=\"213733\">극장판 주술회전 0</option>\\n\\t\\t\\t\\t\\n\\t\\t\\t\\t\\t<option value=\"213620\">프리! 더 파이널 스트로크 전편</option>\\n\\t\\t\\t\\t\\n\\t\\t\\t\\t\\t<option value=\"202986\">빌리 홀리데이</option>\\n\\t\\t\\t\\t\\n\\t\\t\\t\\t\\t<option value=\"201073\">코다</option>\\n\\t\\t\\t\\t\\n\\t\\t\\t\\t\\t<option value=\"193327\">빛나는 순간</option>\\n\\t\\t\\t\\t\\n\\t\\t\\t\\t\\t<option value=\"201863\">혼자 사는 사람들</option>\\n\\t\\t\\t\\t\\n\\t\\t\\t\\t\\t<option value=\"163829\">피넛 버터 팔콘</option>\\n\\t\\t\\t\\t\\n\\t\\t\\t\\t\\t<option value=\"196052\">스파이의 아내</option>\\n\\t\\t\\t\\t\\n\\t\\t\\t\\t\\t<option value=\"183278\">테스와 보낸 여름</option>\\n\\t\\t\\t\\t\\n\\t\\t\\t\\t\\t<option value=\"186239\">어서오시게스트하우스</option>\\n\\t\\t\\t\\t\\n\\t\\t\\t\\t\\t<option value=\"185269\">소년 아메드</option>\\n\\t\\t\\t\\t\\n\\t\\t\\t\\t\\t<option value=\"16411\">녹색 광선</option>\\n\\t\\t\\t\\t\\n\\t\\t\\t\\t\\t<option value=\"154223\">더 스퀘어</option>\\n\\t\\t\\t\\t\\n\\t\\t\\t\\t\\t<option value=\"71151\">아이 엠 러브</option>\\n\\t\\t\\t\\t\\n\\t\\t\\t\\t\\t<option value=\"172344\">신은 죽지 않았다 3: 어둠 속의 빛</option>\\n\\t\\t\\t\\t\\n\\t\\t\\t\\t\\t<option value=\"154437\">내 사랑</option>\\n\\t\\t\\t\\t\\n\\t\\t\\t\\t\\t<option value=\"137841\">물숨</option>\\n\\t\\t\\t\\t\\n\\t\\t\\t\\t\\t<option value=\"129045\">비거 스플래쉬</option>\\n\\t\\t\\t\\t\\n\\t\\t\\t\\t\\t<option value=\"20329\">순응자</option>\\n\\t\\t\\t\\t\\n\\t\\t\\t\\t\\t<option value=\"124238\">헤이트풀8</option>\\n\\t\\t\\t\\t\\n\\t\\t\\t\\t\\t<option value=\"115296\">대니 콜린스</option>\\n\\t\\t\\t\\t\\n\\t\\t\\t\\t\\t<option value=\"26539\">그 여름 가장 조용한 바다</option>\\n\\t\\t\\t\\t\\n\\t\\t\\t\\t\\t<option value=\"16571\">펄프 픽션</option>\\n\\t\\t\\t\\t\\n\\t\\t\\t\\t\\t<option value=\"10555\">오발탄</option>\\n\\t\\t\\t\\t\\n\\t\\t\\t\\t\\t<option value=\"20535\">돌아온 사나이</option>\\n\\t\\t\\t\\t\\n\\t\\t\\t\\t\\t<option value=\"22672\">이 생명 다하도록</option>\\n\\t\\t\\t\\t\\n\\t\\t\\t\\t\\t<option value=\"23212\">청춘 쌍곡선</option>\\n\\t\\t\\t\\t\\n\\t\\t\\t\\t\\t<option value=\"29891\">맨발의 백작부인</option>\\n\\t\\t\\t\\t\\n\\n\\t\\t</select>\\n\\t\\t</span>\\n\\t\\t</div>\\n\\t\\t<!-- //영화선택 -->\\n\\t</div>\\n\\t<!-- 리스트 제목> -->\\n\\t\\n\\t\\t\\n\\t\\t\\n\\t\\t\\n\\t\\t\\n\\t\\t\\t<h5 class=\"sub_tlt underline\"><img src=\"https://ssl.pstatic.net/imgmovie/2007/img/community/stlt_all_list.gif\" alt=\"전체 리스트\" width=\"59\" height=\"13\">\\n\\t\\t\\t\\t\\t<div class=\"h5_right_txt\">총 <strong class=\"c_88 fs_11\">14213922</strong>개의 평점이 있습니다.</div>\\n\\t\\t\\t</h5>\\n\\t\\t\\n\\t\\n\\t<!--// 리스트 제목> -->\\n\\t<!-- list -->\\n\\t<table cellspacing=\"0\" class=\"list_netizen\">\\n\\t\\t<caption class=\"blind\">개봉 후 평점 목록으로 번호, 평점, 내용, 글쓴이, 날짜 정보를 제공</caption>\\n\\t\\t<colgroup><col width=\"44\"><col width=\"*\"><col width=\"68\">\\n\\t\\t<thead>\\n\\t\\t<tr>\\n\\t\\t\\t<th>번호</th>\\n\\t\\t\\t<th>감상평</th>\\n\\t\\t\\t<th class=\"al\"><span class=\"th_m1\">글쓴이·날짜</span></th>\\n\\t\\t</tr>\\n\\t\\t</thead>\\n\\t<tbody>\\n\\t\\n\\t<tr>\\n\\t\\t<td class=\"ac num\">18346511</td>\\n\\t\\t\\t<td class=\"title\">\\n\\t\\t\\t\\n\\t\\t\\t\\n\\t\\t\\t\\t<a href=\"?st=mcode&sword=188146&target=after\" class=\"movie color_b\">건달티처</a>\\n\\t\\t\\t\\n\\t\\t\\t\\n\\t\\t\\t\\n\\t\\t\\t<div class=\"list_netizen_score\">\\n\\t\\t\\t\\t<span class=\"st_off\"><span class=\"st_on\" style=\"width:100%\">별점 - 총 10점 중</span></span><em>10</em>\\n\\t\\t\\t</div>\\n\\t\\t\\t<br>대한민국 역사에 손꼽히지못함. \\n\\t\\t\\t\\n\\t\\t\\t\\n\\t\\t\\t\\n\\t\\t\\t\\t\\n\\t\\t\\t\\t\\n\\t\\t\\t\\t\\n\\t\\t\\t\\t<a href=\"#\" onclick=\"report(\\'sch1****\\', \\'dzJxAZLDxX9fh+ycWF+YY8EnqYL1s/SJkMusLjUxZ88=\\', \\'대한민국 역사에 손꼽히지못함.\\', \\'18346511\\', \\'point_after\\');\" class=\"report\" style=\"color:#8F8F8F\" title=\"새 창\">신고</a>\\n\\t\\t\\t\\n\\t\\t\\t\\n\\t\\t\\t</td>\\n\\t\\t<td class=\"num\"><a href=\"javascript:find_list(\\'nickname\\',\\'18346511\\');\" class=\"author\">sch1****</a><br>22.08.10</td>\\n\\t</tr>\\n\\t\\n\\t<tr>\\n\\t\\t<td class=\"ac num\">18346510</td>\\n\\t\\t\\t<td class=\"title\">\\n\\t\\t\\t\\n\\t\\t\\t\\n\\t\\t\\t\\t<a href=\"?st=mcode&sword=195758&target=after\" class=\"movie color_b\">헌트</a>\\n\\t\\t\\t\\n\\t\\t\\t\\n\\t\\t\\t\\n\\t\\t\\t<div class=\"list_netizen_score\">\\n\\t\\t\\t\\t<span class=\"st_off\"><span class=\"st_on\" style=\"width:100%\">별점 - 총 10점 중</span></span><em>10</em>\\n\\t\\t\\t</div>\\n\\t\\t\\t<br>재미있었어요 기대이상!!! \\n\\t\\t\\t\\n\\t\\t\\t\\n\\t\\t\\t\\n\\t\\t\\t\\t\\n\\t\\t\\t\\t\\n\\t\\t\\t\\t\\n\\t\\t\\t\\t<a href=\"#\" onclick=\"report(\\'fair****\\', \\'2NDdxxqtV/pf/CN7gBQ71KMZtl0U6bo4YaRPzsnNOJU=\\', \\'재미있었어요 기대이상!!!\\', \\'18346510\\', \\'point_after\\');\" class=\"report\" style=\"color:#8F8F8F\" title=\"새 창\">신고</a>\\n\\t\\t\\t\\n\\t\\t\\t\\n\\t\\t\\t</td>\\n\\t\\t<td class=\"num\"><a href=\"javascript:find_list(\\'nickname\\',\\'18346510\\');\" class=\"author\">fair****</a><br>22.08.10</td>\\n\\t</tr>\\n\\t\\n\\t<tr>\\n\\t\\t<td class=\"ac num\">18346509</td>\\n\\t\\t\\t<td class=\"title\">\\n\\t\\t\\t\\n\\t\\t\\t\\n\\t\\t\\t\\t<a href=\"?st=mcode&sword=203101&target=after\" class=\"movie color_b\">카터</a>\\n\\t\\t\\t\\n\\t\\t\\t\\n\\t\\t\\t\\n\\t\\t\\t<div class=\"list_netizen_score\">\\n\\t\\t\\t\\t<span class=\"st_off\"><span class=\"st_on\" style=\"width:20%\">별점 - 총 10점 중</span></span><em>2</em>\\n\\t\\t\\t</div>\\n\\t\\t\\t<br>제발 주적인 북한이랑 동맹으로 안엮었으면 좋겠다 보는 내내 열받네 \\n\\t\\t\\t\\n\\t\\t\\t\\n\\t\\t\\t\\n\\t\\t\\t\\t\\n\\t\\t\\t\\t\\n\\t\\t\\t\\t\\n\\t\\t\\t\\t<a href=\"#\" onclick=\"report(\\'yong****\\', \\'g+GA2LOGw9WiwPyFQjk435EAigxFG4kRN5KH5eQrEWQ=\\', \\'제발 주적인 북한이랑 동맹으로 안엮었으면 좋겠다 보는 내내 열받네\\', \\'18346509\\', \\'point_after\\');\" class=\"report\" style=\"color:#8F8F8F\" title=\"새 창\">신고</a>\\n\\t\\t\\t\\n\\t\\t\\t\\n\\t\\t\\t</td>\\n\\t\\t<td class=\"num\"><a href=\"javascript:find_list(\\'nickname\\',\\'18346509\\');\" class=\"author\">yong****</a><br>22.08.10</td>\\n\\t</tr>\\n\\t\\n\\t<tr>\\n\\t\\t<td class=\"ac num\">18346508</td>\\n\\t\\t\\t<td class=\"title\">\\n\\t\\t\\t\\n\\t\\t\\t\\n\\t\\t\\t\\t<a href=\"?st=mcode&sword=195758&target=after\" class=\"movie color_b\">헌트</a>\\n\\t\\t\\t\\n\\t\\t\\t\\n\\t\\t\\t\\n\\t\\t\\t<div class=\"list_netizen_score\">\\n\\t\\t\\t\\t<span class=\"st_off\"><span class=\"st_on\" style=\"width:80%\">별점 - 총 10점 중</span></span><em>8</em>\\n\\t\\t\\t</div>\\n\\t\\t\\t<br>각자의 사상,각자의 신념 \\n\\t\\t\\t\\n\\t\\t\\t\\n\\t\\t\\t\\n\\t\\t\\t\\t\\n\\t\\t\\t\\t\\n\\t\\t\\t\\t\\n\\t\\t\\t\\t<a href=\"#\" onclick=\"report(\\'ansg****\\', \\'o2iL6Wc2g48954XtLHyulL9meJ+vvAtX01ikC7eDwqQ=\\', \\'각자의 사상,각자의 신념 \\', \\'18346508\\', \\'point_after\\');\" class=\"report\" style=\"color:#8F8F8F\" title=\"새 창\">신고</a>\\n\\t\\t\\t\\n\\t\\t\\t\\n\\t\\t\\t</td>\\n\\t\\t<td class=\"num\"><a href=\"javascript:find_list(\\'nickname\\',\\'18346508\\');\" class=\"author\">ansg****</a><br>22.08.10</td>\\n\\t</tr>\\n\\t\\n\\t<tr>\\n\\t\\t<td class=\"ac num\">18346507</td>\\n\\t\\t\\t<td class=\"title\">\\n\\t\\t\\t\\n\\t\\t\\t\\n\\t\\t\\t\\t<a href=\"?st=mcode&sword=184519&target=after\" class=\"movie color_b\">비상선언</a>\\n\\t\\t\\t\\n\\t\\t\\t\\n\\t\\t\\t\\n\\t\\t\\t<div class=\"list_netizen_score\">\\n\\t\\t\\t\\t<span class=\"st_off\"><span class=\"st_on\" style=\"width:50%\">별점 - 총 10점 중</span></span><em>5</em>\\n\\t\\t\\t</div>\\n\\t\\t\\t<br>런닝타임을 반으로 잘라서 앞 뒤를 쪼갠 2부작이였다면, 1부는 성공, 2부는 폭망인 영화. 이런 장르 영화에 후반부 스토리는 예상을 하고 가지만 좀 더 짧고 간결하게 다른 연출 방식을 택했으면 어땠을까 하는 아쉬움. \\n\\t\\t\\t\\n\\t\\t\\t\\n\\t\\t\\t\\n\\t\\t\\t\\t\\n\\t\\t\\t\\t\\n\\t\\t\\t\\t\\n\\t\\t\\t\\t<a href=\"#\" onclick=\"report(\\'take****\\', \\'81Mr+jc3h0/1/KjDms5QzQhe2edK+P7VSw1/tfuwiLA=\\', \\'런닝타임을 반으로 잘라서 앞 뒤를 쪼갠 2부작이였다면, 1부는 성공, 2부는 폭망인 영화. 이런 장르 영화에 후반부 스토리는 예상을 하고 가지만 좀 더 짧고 간결하게 다른 연출 방식을 택했으면 어땠을까 하는 아쉬움.\\', \\'18346507\\', \\'point_after\\');\" class=\"report\" style=\"color:#8F8F8F\" title=\"새 창\">신고</a>\\n\\t\\t\\t\\n\\t\\t\\t\\n\\t\\t\\t</td>\\n\\t\\t<td class=\"num\"><a href=\"javascript:find_list(\\'nickname\\',\\'18346507\\');\" class=\"author\">take****</a><br>22.08.10</td>\\n\\t</tr>\\n\\t\\n\\t<tr>\\n\\t\\t<td class=\"ac num\">18346506</td>\\n\\t\\t\\t<td class=\"title\">\\n\\t\\t\\t\\n\\t\\t\\t\\n\\t\\t\\t\\t<a href=\"?st=mcode&sword=184519&target=after\" class=\"movie color_b\">비상선언</a>\\n\\t\\t\\t\\n\\t\\t\\t\\n\\t\\t\\t\\n\\t\\t\\t<div class=\"list_netizen_score\">\\n\\t\\t\\t\\t<span class=\"st_off\"><span class=\"st_on\" style=\"width:10%\">별점 - 총 10점 중</span></span><em>1</em>\\n\\t\\t\\t</div>\\n\\t\\t\\t<br>배우가 아깝다특히 회항하는 부분부터는 영화관 안나간걸 후회중.. \\n\\t\\t\\t\\n\\t\\t\\t\\n\\t\\t\\t\\n\\t\\t\\t\\t\\n\\t\\t\\t\\t\\n\\t\\t\\t\\t\\n\\t\\t\\t\\t<a href=\"#\" onclick=\"report(\\'harr****\\', \\'MwSiXhtiBuPVbKrRlBYObXtc4lO8VWLobD78igFbHkU=\\', \\'배우가 아깝다특히 회항하는 부분부터는 영화관 안나간걸 후회중..\\', \\'18346506\\', \\'point_after\\');\" class=\"report\" style=\"color:#8F8F8F\" title=\"새 창\">신고</a>\\n\\t\\t\\t\\n\\t\\t\\t\\n\\t\\t\\t</td>\\n\\t\\t<td class=\"num\"><a href=\"javascript:find_list(\\'nickname\\',\\'18346506\\');\" class=\"author\">harr****</a><br>22.08.10</td>\\n\\t</tr>\\n\\t\\n\\t<tr>\\n\\t\\t<td class=\"ac num\">18346505</td>\\n\\t\\t\\t<td class=\"title\">\\n\\t\\t\\t\\n\\t\\t\\t\\n\\t\\t\\t\\t<a href=\"?st=mcode&sword=195758&target=after\" class=\"movie color_b\">헌트</a>\\n\\t\\t\\t\\n\\t\\t\\t\\n\\t\\t\\t\\n\\t\\t\\t<div class=\"list_netizen_score\">\\n\\t\\t\\t\\t<span class=\"st_off\"><span class=\"st_on\" style=\"width:80%\">별점 - 총 10점 중</span></span><em>8</em>\\n\\t\\t\\t</div>\\n\\t\\t\\t<br>총격씬에 매우 공들인 티가 납니다 하지만 고문장면이 많고 길어서 보기가 힘들었습니다 !! ㅠㅠ \\n\\t\\t\\t\\n\\t\\t\\t\\n\\t\\t\\t\\n\\t\\t\\t\\t\\n\\t\\t\\t\\t\\n\\t\\t\\t\\t\\n\\t\\t\\t\\t<a href=\"#\" onclick=\"report(\\'seun****\\', \\'QhbWC6LDqYRikzkLY2Wdd8C+8isGxt1rMlY8uFoYKhs=\\', \\'총격씬에 매우 공들인 티가 납니다 하지만 고문장면이 많고 길어서 보기가 힘들었습니다 !! ㅠㅠ\\', \\'18346505\\', \\'point_after\\');\" class=\"report\" style=\"color:#8F8F8F\" title=\"새 창\">신고</a>\\n\\t\\t\\t\\n\\t\\t\\t\\n\\t\\t\\t</td>\\n\\t\\t<td class=\"num\"><a href=\"javascript:find_list(\\'nickname\\',\\'18346505\\');\" class=\"author\">seun****</a><br>22.08.10</td>\\n\\t</tr>\\n\\t\\n\\t<tr>\\n\\t\\t<td class=\"ac num\">18346504</td>\\n\\t\\t\\t<td class=\"title\">\\n\\t\\t\\t\\n\\t\\t\\t\\n\\t\\t\\t\\t<a href=\"?st=mcode&sword=195758&target=after\" class=\"movie color_b\">헌트</a>\\n\\t\\t\\t\\n\\t\\t\\t\\n\\t\\t\\t\\n\\t\\t\\t<div class=\"list_netizen_score\">\\n\\t\\t\\t\\t<span class=\"st_off\"><span class=\"st_on\" style=\"width:100%\">별점 - 총 10점 중</span></span><em>10</em>\\n\\t\\t\\t</div>\\n\\t\\t\\t<br>배우들 연기도 뛰어났고 스토리도 짱짱하니 감동깊게 관람했습니다 \\n\\t\\t\\t\\n\\t\\t\\t\\n\\t\\t\\t\\n\\t\\t\\t\\t\\n\\t\\t\\t\\t\\n\\t\\t\\t\\t\\n\\t\\t\\t\\t<a href=\"#\" onclick=\"report(\\'pure****\\', \\'GNF4pLyI7npODrl4gTV5bXJ0k8Euz7CuKJf/pJypqJ0=\\', \\'배우들 연기도 뛰어났고 스토리도 짱짱하니 감동깊게 관람했습니다\\', \\'18346504\\', \\'point_after\\');\" class=\"report\" style=\"color:#8F8F8F\" title=\"새 창\">신고</a>\\n\\t\\t\\t\\n\\t\\t\\t\\n\\t\\t\\t</td>\\n\\t\\t<td class=\"num\"><a href=\"javascript:find_list(\\'nickname\\',\\'18346504\\');\" class=\"author\">pure****</a><br>22.08.10</td>\\n\\t</tr>\\n\\t\\n\\t<tr>\\n\\t\\t<td class=\"ac num\">18346503</td>\\n\\t\\t\\t<td class=\"title\">\\n\\t\\t\\t\\n\\t\\t\\t\\n\\t\\t\\t\\t<a href=\"?st=mcode&sword=195758&target=after\" class=\"movie color_b\">헌트</a>\\n\\t\\t\\t\\n\\t\\t\\t\\n\\t\\t\\t\\n\\t\\t\\t<div class=\"list_netizen_score\">\\n\\t\\t\\t\\t<span class=\"st_off\"><span class=\"st_on\" style=\"width:80%\">별점 - 총 10점 중</span></span><em>8</em>\\n\\t\\t\\t</div>\\n\\t\\t\\t<br>초심자의 행운을 제대로 보여준 이정재의 첫 감독데뷔작 \\n\\t\\t\\t\\n\\t\\t\\t\\n\\t\\t\\t\\n\\t\\t\\t\\t\\n\\t\\t\\t\\t\\n\\t\\t\\t\\t\\n\\t\\t\\t\\t<a href=\"#\" onclick=\"report(\\'kjh8****\\', \\'7ABcyX92ElFSMpzjfSvrQ+CbQwlss/o1riuAWlvXsRk=\\', \\'초심자의 행운을 제대로 보여준 이정재의 첫 감독데뷔작\\', \\'18346503\\', \\'point_after\\');\" class=\"report\" style=\"color:#8F8F8F\" title=\"새 창\">신고</a>\\n\\t\\t\\t\\n\\t\\t\\t\\n\\t\\t\\t</td>\\n\\t\\t<td class=\"num\"><a href=\"javascript:find_list(\\'nickname\\',\\'18346503\\');\" class=\"author\">kjh8****</a><br>22.08.10</td>\\n\\t</tr>\\n\\t\\n\\t<tr>\\n\\t\\t<td class=\"ac num\">18346502</td>\\n\\t\\t\\t<td class=\"title\">\\n\\t\\t\\t\\n\\t\\t\\t\\n\\t\\t\\t\\t<a href=\"?st=mcode&sword=194196&target=after\" class=\"movie color_b\">한산: 용의 출현</a>\\n\\t\\t\\t\\n\\t\\t\\t\\n\\t\\t\\t\\n\\t\\t\\t<div class=\"list_netizen_score\">\\n\\t\\t\\t\\t<span class=\"st_off\"><span class=\"st_on\" style=\"width:100%\">별점 - 총 10점 중</span></span><em>10</em>\\n\\t\\t\\t</div>\\n\\t\\t\\t<br>심장 쫄리면서 너무 재밌게 본 영화.. 한번 더 보고싶네요..! \\n\\t\\t\\t\\n\\t\\t\\t\\n\\t\\t\\t\\n\\t\\t\\t\\t\\n\\t\\t\\t\\t\\n\\t\\t\\t\\t\\n\\t\\t\\t\\t<a href=\"#\" onclick=\"report(\\'love****\\', \\'HCz8C0Fm9b7flZV67Dw0dFR6tu/T0H/IPkbZCNpVaB0=\\', \\'심장 쫄리면서 너무 재밌게 본 영화.. 한번 더 보고싶네요..!\\', \\'18346502\\', \\'point_after\\');\" class=\"report\" style=\"color:#8F8F8F\" title=\"새 창\">신고</a>\\n\\t\\t\\t\\n\\t\\t\\t\\n\\t\\t\\t</td>\\n\\t\\t<td class=\"num\"><a href=\"javascript:find_list(\\'nickname\\',\\'18346502\\');\" class=\"author\">love****</a><br>22.08.10</td>\\n\\t</tr>\\n\\t\\n\\t\\n\\t</tbody>\\n\\t</table>\\n\\t<form id=\"reportForm\" name=\"reportForm1\"></form>\\n\\t<script type=\"text/javascript\">\\n\\tfunction report(writerId, encryptedId, title, nid, boardId){\\n\\t\\tif( \\'Y\\' == \\'N\\' || \\'Y\\' == \\'G\\' ) {\\n\\t\\t\\topenNotify(\\'Y\\', \\'\\');\\n\\t\\t\\treturn;\\n\\t\\t}\\n\\t\\tif(login_check()== false) {\\n\\t\\t\\treturn;\\n\\t\\t}\\n\\t\\t\\t\\n\\t\\t\\turl = location.protocol+ \"//\" + location.host + \"/movie/board/common/report.naver\";\\n\\t\\t\\tif(\"\" == \"\"){\\n\\t\\t\\t\\tgoLogin();\\n\\t\\t\\t}else{\\n\\t\\t\\t\\tvar reportForm = document.getElementById(\"reportForm\");\\n\\t\\t\\t\\tvar formInput1 = createReportHiddenParameter(\"writerId\", writerId);\\n\\t\\t\\t\\tvar formInput2 = createReportHiddenParameter(\"nid\", nid);\\n\\t\\t\\t\\tvar formInput3 = createReportHiddenParameter(\"boardId\", boardId);\\n\\t\\t\\t\\tvar formInput4 = createReportHiddenParameter(\"title\", title);\\n\\t\\t\\t\\tvar formInput5 = createReportHiddenParameter(\"encryptedId\", encryptedId);\\n\\n\\t\\t\\t\\treportForm.appendChild(formInput1);\\n\\t\\t\\t\\treportForm.appendChild(formInput2);\\n\\t\\t\\t\\treportForm.appendChild(formInput3);\\n\\t\\t\\t\\treportForm.appendChild(formInput4);\\n\\t\\t\\t\\treportForm.appendChild(formInput5);\\n\\t\\t\\t\\t\\n\\t\\t\\t\\twindow.open(\"\", \"report\", \"status=yes, width=575, height=800, scrollbars=yes, menubar=no, toolbar=no, location=no\");\\n\\t\\t\\t\\treportForm.action = url;\\n\\t\\t\\t\\treportForm.target=\"report\";\\n\\t\\t\\t\\treportForm.submit();\\n\\n\\t\\t\\t\\treportForm.removeChild(formInput1);\\n\\t\\t\\t\\treportForm.removeChild(formInput2);\\n\\t\\t\\t\\treportForm.removeChild(formInput3);\\n\\t\\t\\t\\treportForm.removeChild(formInput4);\\t\\n\\t\\t\\t\\treportForm.removeChild(formInput5);\\t\\n\\t\\t\\t}\\n\\t}\\n\\tfunction createReportHiddenParameter(name, value){\\n\\t\\tvar input = document.createElement(\"input\");\\n\\t\\tinput.type=\"hidden\";\\n\\t\\tinput.name = name;\\n\\t\\tinput.value = value;\\n\\t\\treturn input;\\n\\t}\\n\\t</script>\\n\\t<!-- //list -->\\n\\t<!-- 페이징 -->\\n\\t<div class=\"paging\">\\n\\t\\t<div>\\n\\t\\t\\n\\t\\t\\t\\n\\t\\t\\t<a href=\"/movie/point/af/list.naver?&page=1\"><span class=\"on\">1</span></a>\\n<a href=\"/movie/point/af/list.naver?&page=2\"><span>2</span></a>\\n<a href=\"/movie/point/af/list.naver?&page=3\"><span>3</span></a>\\n<a href=\"/movie/point/af/list.naver?&page=4\"><span>4</span></a>\\n<a href=\"/movie/point/af/list.naver?&page=5\"><span>5</span></a>\\n<a href=\"/movie/point/af/list.naver?&page=6\"><span>6</span></a>\\n<a href=\"/movie/point/af/list.naver?&page=7\"><span>7</span></a>\\n<a href=\"/movie/point/af/list.naver?&page=8\"><span>8</span></a>\\n<a href=\"/movie/point/af/list.naver?&page=9\"><span>9</span></a>\\n<a href=\"/movie/point/af/list.naver?&page=10\"><span>10</span></a>\\n\\n\\t\\t\\t<a href=\"/movie/point/af/list.naver?&page=2\" title=\\'다음\\' class=\\'pg_next\\'><em>다음</em></a>\\n\\n\\t\\t\\n\\t\\t</div>\\n\\t</div>\\n\\t<!-- //페이징 -->\\n\\t<!-- 검색 -->\\n\\t<fieldset class=\"form_board_search pt_18\">\\n\\t<legend>게시물 검색</legend>\\n\\t\\t<form name=\"searchListForm\" action=\"list.naver\" method=\"get\" onSubmit=\"doSearchList(); return false;\">\\n\\t\\t\\t<select size=\"1\" name=\"st\" style=\"width:75px;\" class=\"select_type_1\" onchange=\"checkSearchType(); return false;\" title=\"게시물 검색\">\\n\\t\\t\\t\\t<option value=\"userid\">글쓴이</option>\\n\\t\\t\\t\\t<option value=\"movie\">관련영화</option>\\n\\t\\t\\t</select>\\n\\t\\t\\t<input type=\"hidden\" name=\"target\" value=\"after\"/>\\n\\t\\t\\t<input type=\"hidden\" name=\"mcode\" value=\"\"/>\\n\\t\\t\\t<input name=\"sword\" type=\"text\" style=\"width:145px\" title=\"검색어입력\" class=\"input_type_text_4\" onfocus=\"openMovieSearchPopupOrNot(); return false;\">\\n\\t\\t\\t<input type=\"image\" src=\"https://ssl.pstatic.net/imgmovie/2007/img/common/btn_search.gif\" alt=\"검색\">\\n\\t\\t</form>\\n\\t</fieldset>\\n\\t<!-- //검색 -->\\n\\t<script type=\"text/javascript\">\\n\\t\\n\\t\\tvar oForm = document.searchListForm;\\n\\t\\t\\n\\t\\tfunction checkSearchType() {\\n\\t\\t\\tvar searchType = oForm.st.value;\\n\\t\\t\\t\\n\\t\\t\\tif (searchType == \"movie\") {\\n\\t\\t\\t\\toForm.sword.readOnly = true;\\n\\t\\t\\t} else {\\n\\t\\t\\t\\toForm.sword.readOnly = false;\\n\\t\\t\\t}\\n\\t\\t}\\n\\t\\t\\n\\t\\tfunction openMovieSearchPopupOrNot() {\\n\\t\\t\\tvar searchType = oForm.st.value;\\n\\t\\t\\t\\n\\t\\t\\tif (searchType == \"movie\") {\\n\\t\\t\\t\\toForm.st.focus();\\n\\t\\t\\t\\twindow.open(\"/movie/bi/pop/movie_sel.naver\", \"select_movie\", \"scrollbars=yes, status=no, toolbar=no, width=530, height=470\");\\n\\t\\t\\t}\\n\\t\\t\\t\\n\\t\\t\\treturn false;\\n\\t\\t}\\n\\t\\t\\n\\t\\tfunction doSearchList() {\\n\\t\\t\\tvar searchType = oForm.st.value;\\n\\t\\t\\t\\n\\t\\t\\tif(oForm.sword.value.length < 1) {\\n\\t\\t\\t\\talert(\"검색어를 입력해 주세요.\");\\n\\t\\t\\t\\treturn false;\\n\\t\\t\\t}\\n\\t\\t\\t\\n\\t\\t\\tif (searchType == \"movie\") {\\n\\t\\t\\t\\tvar st = \"mcode\";\\n\\t\\t\\t\\tvar sword = oForm.mcode.value;\\n\\t\\t\\t\\t\\n\\t\\t\\t\\toForm.st.value = st;\\n\\t\\t\\t\\toForm.sword.value = sword;\\n\\t\\t\\t\\tfind_list(st, sword);\\n\\t\\t\\t\\t\\n\\t\\t\\t\\treturn false;\\n\\t\\t\\t}\\n\\t\\t\\t\\n\\t\\t\\toForm.sword.value = oForm.sword.value.replace(/\\\\\\'/g,\"\\\\\\\\\\'\");\\n\\t\\t\\toForm.submit();\\n\\t\\t\\treturn true;\\n\\t\\t}\\n\\t\\t\\n\\t\\t// 영화 검색 팝업 창에서 콜백 하는, 영화 정보 세팅 함수\\n\\t\\tfunction setMovieInfo (mcode, mtitle) {\\n\\t\\t\\toForm.mcode.value = mcode;\\n\\t\\t\\toForm.sword.value = mtitle;\\n\\t\\t}\\n\\t\\t\\n\\t</script>\\n\\t\\n\\t<!-- 안내박스 -->\\n\\t<ul class=\"box_guide mt_35\">\\n\\t\\t<li>\\n\\t\\t\\t<dl class=\"info_guide\">\\n\\t\\t\\t\\t<dt class=\"blind\">유의사항</dt>\\n\\t\\t\\t\\t<dd>평점은 영화별로 1인당 1회만 등록이 가능하며 하루에 최대 3개의 영화까지만 등록이 가능합니다.\\n\\t\\t\\t\\t\\t게시판 용도에 맞지 않는 글은 운영자에 의해 삭제될 수 있습니다. <span class=\"rule\"><a href=\"javascript:openRulePopup();\"></a></span></dd>\\n\\t\\t\\t</dl>\\n\\t\\t</li>\\n\\t</ul>\\n\\t<!-- //안내박스 -->\\n\\t<!-- 탑버튼 -->\\n\\t<div class=\"go_top\">\\n\\t\\n\\t<a href=\"#gnb_top\"><img src=\"https://ssl.pstatic.net/imgmovie/2007/img/common/btn_top.gif\" alt=\"TOP\" width=\"30\" height=\"11\"></a>\\n\\t</div>\\n\\t<!-- //탑버튼 -->\\r\\n\\t\\t\\t\\t\\t</div>\\r\\n\\t\\t\\t\\r\\n\\t\\t\\t\\t\\t<div id=\"assistant\">\\r\\n\\t\\t\\t\\t\\t\\t\\r\\n\\r\\n\\r\\n\\r\\n\\r\\n\\r\\n\\r\\n\\r\\n\\t\\r\\n\\t\\t\\r\\n\\r\\n\\r\\n\\r\\n\\r\\n\\r\\n<!-- 우측 메뉴 -->\\r\\n\\r\\n\\t \\r\\n\\r\\n\\r\\n\\r\\n\\t<!-- 영화 인기검색어 -->\\r\\n\\t<div class=\"box_type_1 mb_8\">\\r\\n\\t<h3><img src=\"https://ssl.pstatic.net/imgmovie/2007/img/super_db/tlt_r_best_movie.gif\" alt=\"영화 인기검색어\" width=\"75\" height=\"11\"></h3>\\r\\n\\t\\t<ul class=\"r_ranking\">\\r\\n\\t\\t\\t\\r\\n\\t\\t\\t\\r\\n\\t\\t\\t\\t\\r\\n\\t\\t\\t\\t\\r\\n\\t\\t\\t\\t\\r\\n\\t\\t\\t\\t\\r\\n\\t\\t\\t\\t\\r\\n\\t\\t\\t\\t<li class=\"ranking01\">\\r\\n\\t\\t\\t\\t\\r\\n\\t\\t\\t\\t\\r\\n\\t\\t\\t\\t<a href=\"/movie/bi/mi/basic.naver?code=184519\" onclick=\"clickcr(this,\\'pop.list\\',\\'184519\\',\\'1\\',event);\" class=\\'b\\' title=\"비상선언\"><span class=\"blind\">1위</span>비상선언</a>\\r\\n\\t\\t\\t\\t<span class=\"rank\">\\r\\n\\t\\t\\t\\t\\r\\n\\t\\t\\t\\t\\r\\n\\t\\t\\t\\t\\r\\n\\t\\t\\t\\t\\r\\n\\t\\t\\t\\t\\t\\r\\n\\t\\t\\t\\t\\r\\n\\t\\t\\t\\t\\r\\n\\t\\t\\t\\t\\r\\n\\t\\t\\t\\t\\t\\r\\n\\t\\t\\t\\t\\t\\r\\n\\t\\t\\t\\t\\t\\r\\n\\t\\t\\t\\t\\t\\r\\n\\t\\t\\t\\t\\r\\n\\t\\t\\t\\t<img src=\"https://ssl.pstatic.net/imgmovie/2007/img/common/icon_na_1.gif\"\\r\\n\\t\\t\\t\\t\\t alt=\"순위 변동 없음\"\\r\\n\\t\\t\\t\\t\\t width=\"7\" height=\"10\">0</span>\\r\\n\\t\\t\\t\\t\\r\\n\\t\\t\\t\\r\\n\\t\\t\\t\\t\\r\\n\\t\\t\\t\\t\\r\\n\\t\\t\\t\\t\\r\\n\\t\\t\\t\\t\\r\\n\\t\\t\\t\\t<li class=\"ranking02\">\\r\\n\\t\\t\\t\\t\\r\\n\\t\\t\\t\\t\\r\\n\\t\\t\\t\\t<a href=\"/movie/bi/mi/basic.naver?code=194196\" onclick=\"clickcr(this,\\'pop.list\\',\\'194196\\',\\'2\\',event);\"  title=\"한산: 용의 출현\"><span class=\"blind\">2위</span>한산: 용의 출현</a>\\r\\n\\t\\t\\t\\t<span class=\"rank\">\\r\\n\\t\\t\\t\\t\\r\\n\\t\\t\\t\\t\\r\\n\\t\\t\\t\\t\\r\\n\\t\\t\\t\\t\\r\\n\\t\\t\\t\\t\\t\\r\\n\\t\\t\\t\\t\\r\\n\\t\\t\\t\\t\\r\\n\\t\\t\\t\\t\\r\\n\\t\\t\\t\\t\\t\\r\\n\\t\\t\\t\\t\\t\\r\\n\\t\\t\\t\\t\\t\\r\\n\\t\\t\\t\\t\\t\\r\\n\\t\\t\\t\\t\\r\\n\\t\\t\\t\\t<img src=\"https://ssl.pstatic.net/imgmovie/2007/img/common/icon_na_1.gif\"\\r\\n\\t\\t\\t\\t\\t alt=\"순위 변동 없음\"\\r\\n\\t\\t\\t\\t\\t width=\"7\" height=\"10\">0</span>\\r\\n\\t\\t\\t\\t\\r\\n\\t\\t\\t\\r\\n\\t\\t\\t\\t\\r\\n\\t\\t\\t\\t\\r\\n\\t\\t\\t\\t\\r\\n\\t\\t\\t\\t\\r\\n\\t\\t\\t\\t<li class=\"ranking03\">\\r\\n\\t\\t\\t\\t\\r\\n\\t\\t\\t\\t\\r\\n\\t\\t\\t\\t<a href=\"/movie/bi/mi/basic.naver?code=192151\" onclick=\"clickcr(this,\\'pop.list\\',\\'192151\\',\\'3\\',event);\"  title=\"외계+인 1부\"><span class=\"blind\">3위</span>외계+인 1부</a>\\r\\n\\t\\t\\t\\t<span class=\"rank\">\\r\\n\\t\\t\\t\\t\\r\\n\\t\\t\\t\\t\\r\\n\\t\\t\\t\\t\\r\\n\\t\\t\\t\\t\\r\\n\\t\\t\\t\\t\\t\\r\\n\\t\\t\\t\\t\\r\\n\\t\\t\\t\\t\\r\\n\\t\\t\\t\\t\\r\\n\\t\\t\\t\\t\\t\\r\\n\\t\\t\\t\\t\\t\\r\\n\\t\\t\\t\\t\\t\\r\\n\\t\\t\\t\\t\\t\\r\\n\\t\\t\\t\\t\\r\\n\\t\\t\\t\\t<img src=\"https://ssl.pstatic.net/imgmovie/2007/img/common/icon_na_1.gif\"\\r\\n\\t\\t\\t\\t\\t alt=\"순위 변동 없음\"\\r\\n\\t\\t\\t\\t\\t width=\"7\" height=\"10\">0</span>\\r\\n\\t\\t\\t\\t\\r\\n\\t\\t\\t\\r\\n\\t\\t\\t\\t\\r\\n\\t\\t\\t\\t\\r\\n\\t\\t\\t\\t\\r\\n\\t\\t\\t\\t\\r\\n\\t\\t\\t\\t<li class=\"ranking04\">\\r\\n\\t\\t\\t\\t\\r\\n\\t\\t\\t\\t\\r\\n\\t\\t\\t\\t<a href=\"/movie/bi/mi/basic.naver?code=81888\" onclick=\"clickcr(this,\\'pop.list\\',\\'81888\\',\\'4\\',event);\"  title=\"탑건: 매버릭\"><span class=\"blind\">4위</span>탑건: 매버릭</a>\\r\\n\\t\\t\\t\\t<span class=\"rank\">\\r\\n\\t\\t\\t\\t\\r\\n\\t\\t\\t\\t\\r\\n\\t\\t\\t\\t\\r\\n\\t\\t\\t\\t\\r\\n\\t\\t\\t\\t\\t\\r\\n\\t\\t\\t\\t\\r\\n\\t\\t\\t\\t\\r\\n\\t\\t\\t\\t\\r\\n\\t\\t\\t\\t\\t\\r\\n\\t\\t\\t\\t\\t\\r\\n\\t\\t\\t\\t\\t\\r\\n\\t\\t\\t\\t\\t\\r\\n\\t\\t\\t\\t\\r\\n\\t\\t\\t\\t<img src=\"https://ssl.pstatic.net/imgmovie/2007/img/common/icon_na_1.gif\"\\r\\n\\t\\t\\t\\t\\t alt=\"순위 변동 없음\"\\r\\n\\t\\t\\t\\t\\t width=\"7\" height=\"10\">0</span>\\r\\n\\t\\t\\t\\t\\r\\n\\t\\t\\t\\r\\n\\t\\t\\t\\t\\r\\n\\t\\t\\t\\t\\r\\n\\t\\t\\t\\t\\r\\n\\t\\t\\t\\t\\r\\n\\t\\t\\t\\t<li class=\"ranking05\">\\r\\n\\t\\t\\t\\t\\r\\n\\t\\t\\t\\t\\r\\n\\t\\t\\t\\t<a href=\"/movie/bi/mi/basic.naver?code=198413\" onclick=\"clickcr(this,\\'pop.list\\',\\'198413\\',\\'5\\',event);\"  title=\"헤어질 결심\"><span class=\"blind\">5위</span>헤어질 결심</a>\\r\\n\\t\\t\\t\\t<span class=\"rank\">\\r\\n\\t\\t\\t\\t\\r\\n\\t\\t\\t\\t\\r\\n\\t\\t\\t\\t\\r\\n\\t\\t\\t\\t\\r\\n\\t\\t\\t\\t\\t\\r\\n\\t\\t\\t\\t\\r\\n\\t\\t\\t\\t\\r\\n\\t\\t\\t\\t\\r\\n\\t\\t\\t\\t\\t\\r\\n\\t\\t\\t\\t\\t\\r\\n\\t\\t\\t\\t\\t\\r\\n\\t\\t\\t\\t\\t\\r\\n\\t\\t\\t\\t\\r\\n\\t\\t\\t\\t<img src=\"https://ssl.pstatic.net/imgmovie/2007/img/common/icon_na_1.gif\"\\r\\n\\t\\t\\t\\t\\t alt=\"순위 변동 없음\"\\r\\n\\t\\t\\t\\t\\t width=\"7\" height=\"10\">0</span>\\r\\n\\t\\t\\t\\t\\r\\n\\t\\t\\t\\r\\n\\t\\t</ul>\\r\\n        <!--[D] 더보기 위치 이동 -->\\r\\n        <a href=\"/movie/sdb/rank/rmovie.naver\" onclick=\"clickcr(this,\\'pop.more\\',\\'\\',\\'\\',event);\" class=\"more\">더보기</a>\\r\\n        <p class=\"term\">2022.08.09</p>\\r\\n\\t</div>\\r\\n  \\r\\n\\r\\n\\t \\n\\n\\n\\n\\t<script type=\"text/javascript\">\\n\\t\\t//탭 토글해주는 스크립트\\n\\t\\tfunction showTopPoint(param){\\t\\t\\t\\n\\t\\t\\tif(param ==\"running\"){\\n\\t\\t\\t\\tdocument.getElementById(\"topRunning\").style.display=\"\";\\n\\t\\t\\t\\tdocument.getElementById(\"topAll\").style.display=\"none\";\\n                document.getElementById(\"running_tab\").focus();\\n\\t\\t\\t\\t\\n\\t\\t\\t}else{\\n\\t\\t\\t\\tdocument.getElementById(\"topRunning\").style.display=\"none\";\\n\\t\\t\\t\\tdocument.getElementById(\"topAll\").style.display=\"\";\\n                document.getElementById(\"all_tab_in_all\").focus();\\n\\t\\t\\t}\\n\\t\\t}\\n\\t</script>\\n\\t<!-- 네티즌 최고 평점 -->\\n\\t<div id=\"topRunning\" class=\"box_type_1 mb_8\">\\n\\t\\t<h3><img src=\"https://ssl.pstatic.net/imgmovie/2007/img/community/tlt_r_netizen_good.gif\" alt=\"네티즌 최고 평점\" width=\"77\" height=\"12\"></h3>\\n\\t\\t<div style=\"_margin-top:-1px;\"><a id=\"running_tab\" href=\"javascript:showTopPoint(\\'running\\');\" onclick=\"clickcr(this,\\'npt.now\\',\\'\\',\\'\\',event);\"><img src=\"https://ssl.pstatic.net/imgmovie/2007/img/community/tab_r_01_on.gif\" alt=\"현재 상영영화\" width=\"99\" height=\"33\"></a><a id=\"all_tab\" href=\"javascript:showTopPoint(\\'all\\');\" onclick=\"clickcr(this,\\'npt.all\\',\\'\\',\\'\\',event);\"><img src=\"https://ssl.pstatic.net/imgmovie/2007/img/community/tab_r_02_off.gif\" alt=\"모든영화\" width=\"99\" height=\"33\"></a></div>\\n\\t\\t<!--[D] 선택 된 탭 대체 텍스트 제공 -->\\n\\t\\t<strong class=\"blind\">현재 상영영화</strong>\\n\\t\\t<ul class=\"grade\">\\n\\t\\t\\t\\n\\t\\t\\t\\t<li class=\"1st ranking01\">\\n\\t\\t\\t\\t\\t<span class=\"blind\">1위</span>\\n\\t\\t\\t\\t\\t\\n\\t\\t\\t\\t\\t\\t<a href=\"/movie/point/af/list.naver?st=mcode&sword=81888\" onclick=\"clickcr(this,\\'npt*n.list\\',\\'81888\\',\\'1\\',event);\" class=\"ls b\" title=\"탑건: 매버릭\">\\n\\t\\t\\t\\t\\t\\t탑건: 매버릭</a><span class=\"num b check\">9.78</span>\\n\\t\\t\\t\\t\\t\\n\\t\\t\\t\\t\\t\\n\\t\\t\\t\\t\\t\\n\\t\\t\\t\\t\\t\\t<p class=\"img_movie\"><a href=\"/movie/point/af/list.naver?st=mcode&sword=81888\" onclick=\"clickcr(this,\\'npt*n.img\\',\\'81888\\',\\'\\',event);\">\\n\\t\\t\\t\\t\\t\\t\\n\\t\\t\\t\\t\\t\\t\\t<img src=\"https://ssl.pstatic.net/imgmovie/mdi/mi_new_master/0818/81888_M67_142641.png\" alt=\"탑건: 매버릭\" width=\"176\" height=\"80\">\\n\\t\\t\\t\\t\\t\\t\\n\\t\\t\\t\\t\\t\\t\\n\\t\\t\\t\\t\\t\\t</a>\\n\\t\\t\\t\\t\\t\\t</p>\\n\\t\\t\\t\\t\\t\\t\\t\\t\\t\\t\\t\\t\\n\\t\\t\\t\\t</li>\\n\\t\\t\\t\\n\\t\\t\\t\\t<li class=\"1st ranking02\">\\n\\t\\t\\t\\t\\t<span class=\"blind\">2위</span>\\n\\t\\t\\t\\t\\t\\n\\t\\t\\t\\t\\t\\n\\t\\t\\t\\t\\t\\t<a href=\"/movie/point/af/list.naver?st=mcode&sword=217719\" onclick=\"clickcr(this,\\'npt*n.list\\',\\'217719\\',\\'2\\',event);\" class=\"ls\" title=\"명탐정 코난: 할로윈의 신부\">\\n\\t\\t\\t\\t\\t\\t명탐정 코난: 할로..</a><span class=\"num b\">9.5</span>\\n\\t\\t\\t\\t\\t\\n\\t\\t\\t\\t\\t\\t\\t\\t\\t\\t\\t\\t\\n\\t\\t\\t\\t</li>\\n\\t\\t\\t\\n\\t\\t\\t\\t<li class=\"1st ranking03\">\\n\\t\\t\\t\\t\\t<span class=\"blind\">3위</span>\\n\\t\\t\\t\\t\\t\\n\\t\\t\\t\\t\\t\\n\\t\\t\\t\\t\\t\\t<a href=\"/movie/point/af/list.naver?st=mcode&sword=192608\" onclick=\"clickcr(this,\\'npt*n.list\\',\\'192608\\',\\'3\\',event);\" class=\"ls\" title=\"범죄도시2\">\\n\\t\\t\\t\\t\\t\\t범죄도시2</a><span class=\"num b\">9.37</span>\\n\\t\\t\\t\\t\\t\\n\\t\\t\\t\\t\\t\\t\\t\\t\\t\\t\\t\\t\\n\\t\\t\\t\\t</li>\\n\\t\\t\\t\\n\\t\\t\\t\\t<li class=\"1st ranking04\">\\n\\t\\t\\t\\t\\t<span class=\"blind\">4위</span>\\n\\t\\t\\t\\t\\t\\n\\t\\t\\t\\t\\t\\n\\t\\t\\t\\t\\t\\t<a href=\"/movie/point/af/list.naver?st=mcode&sword=213733\" onclick=\"clickcr(this,\\'npt*n.list\\',\\'213733\\',\\'4\\',event);\" class=\"ls\" title=\"극장판 주술회전 0\">\\n\\t\\t\\t\\t\\t\\t극장판 주술회전 0</a><span class=\"num b\">9.24</span>\\n\\t\\t\\t\\t\\t\\n\\t\\t\\t\\t\\t\\t\\t\\t\\t\\t\\t\\t\\n\\t\\t\\t\\t</li>\\n\\t\\t\\t\\n\\t\\t\\t\\t<li class=\"1st ranking05\">\\n\\t\\t\\t\\t\\t<span class=\"blind\">5위</span>\\n\\t\\t\\t\\t\\t\\n\\t\\t\\t\\t\\t\\n\\t\\t\\t\\t\\t\\t<a href=\"/movie/point/af/list.naver?st=mcode&sword=154437\" onclick=\"clickcr(this,\\'npt*n.list\\',\\'154437\\',\\'5\\',event);\" class=\"ls\" title=\"내 사랑\">\\n\\t\\t\\t\\t\\t\\t내 사랑</a><span class=\"num b\">9.21</span>\\n\\t\\t\\t\\t\\t\\n\\t\\t\\t\\t\\t\\t\\t\\t\\t\\t\\t\\t\\n\\t\\t\\t\\t</li>\\n\\t\\t\\t\\t\\t\\t\\t\\t\\n\\t\\t</ul>\\n\\t\\t<a href=\"/movie/sdb/rank/rmovie.naver?sel=cur\" onclick=\"clickcr(this,\\'npt.more\\',\\'\\',\\'\\',event);\" class=\"more\">더보기</a><!-- 현재 상영영화의 더보기 -->\\n\\t\\t<p class=\"term\" style=\"padding:0 13px 7px 0;\">2022.08.09<img src=\"https://ssl.pstatic.net/imgmovie/2007/img/community/txt_righ_point.gif\" alt=\"까지의 관람후 누적 평점\" width=\"88\" height=\"9\"></p>\\n\\t</div>\\n\\t<div id=\"topAll\" class=\"box_type_1 mb_8\" style=\"display:none;\">\\n\\t\\t<h3><img src=\"https://ssl.pstatic.net/imgmovie/2007/img/community/tlt_r_netizen_good.gif\" alt=\"네티즌 최고 평점\" width=\"77\" height=\"12\"></h3>\\n\\t\\t<strong class=\"blind\">모든 영화</strong>\\n\\t\\t<div style=\"_margin-top:-1px;\"><a href=\"javascript:showTopPoint(\\'running\\');\" onclick=\"clickcr(this,\\'npt.now\\',\\'\\',\\'\\',event);\"><img src=\"https://ssl.pstatic.net/imgmovie/2007/img/community/tab_r_01_off.gif\" alt=\"현재 상영영화\" width=\"99\" height=\"33\"></a><a id=\"all_tab_in_all\" href=\"javascript:showTopPoint(\\'all\\');\" onclick=\"clickcr(this,\\'npt.all\\',\\'\\',\\'\\',event);\"><img src=\"https://ssl.pstatic.net/imgmovie/2007/img/community/tab_r_02_on.gif\" alt=\"모든영화\" width=\"99\" height=\"33\"></a></div>\\n\\t\\t<ul class=\"grade\">\\n\\t\\t\\t\\n\\t\\t\\t\\t<li class=\"1st ranking01\">\\n\\t\\t\\t\\t\\t<span class=\"blind\">1위</span>\\n\\t\\t\\t\\t\\t\\n\\t\\t\\t\\t\\t\\t<a href=\"/movie/point/af/list.naver?st=mcode&sword=81888\" onclick=\"clickcr(this,\\'npt*a.list\\',\\'81888\\',\\'1\\',event);\" class=\"ls b\" title=\"탑건: 매버릭\">\\n\\t\\t\\t\\t\\t\\t탑건: 매버릭\\n\\t\\t\\t\\t\\t\\t</a><span class=\"num b check\">9.78</span>\\n\\t\\t\\t\\t\\t\\n\\t\\t\\t\\t\\t\\n\\t\\t\\t\\t\\t\\n\\t\\t\\t\\t\\t<p class=\"img_movie\"><a href=\"/movie/point/af/list.naver?st=mcode&sword=81888\" onclick=\"clickcr(this,\\'npt*a.img\\',\\'81888\\',\\'\\',event);\">\\n\\t\\t\\t\\t\\t\\n\\t\\t\\t\\t\\t\\t\\t<img src=\"https://ssl.pstatic.net/imgmovie/mdi/mi_new_master/0818/81888_M67_142641.png\" alt=\"탑건: 매버릭\" width=\"176\" height=\"80\">\\n\\t\\t\\t\\t\\t\\t\\n\\t\\t\\t\\t\\t\\t\\n\\t\\t\\t\\t\\t</a></p>\\n\\t\\t\\t\\t\\t\\t\\t\\t\\t\\t\\t\\t\\n\\t\\t\\t\\t</li>\\n\\t\\t\\t\\n\\t\\t\\t\\t<li class=\"1st ranking02\">\\n\\t\\t\\t\\t\\t<span class=\"blind\">2위</span>\\n\\t\\t\\t\\t\\t\\n\\t\\t\\t\\t\\t\\n\\t\\t\\t\\t\\t\\t<a href=\"/movie/point/af/list.naver?st=mcode&sword=191613\" onclick=\"clickcr(this,\\'npt*a.list\\',\\'191613\\',\\'2\\',event);\" class=\"ls\" title=\"클라우스\">\\n\\t\\t\\t\\t\\t\\t클라우스</a><span class=\"num b\">9.74</span>\\n\\t\\t\\t\\t\\t\\n\\t\\t\\t\\t\\t\\t\\t\\t\\t\\t\\t\\t\\n\\t\\t\\t\\t</li>\\n\\t\\t\\t\\n\\t\\t\\t\\t<li class=\"1st ranking03\">\\n\\t\\t\\t\\t\\t<span class=\"blind\">3위</span>\\n\\t\\t\\t\\t\\t\\n\\t\\t\\t\\t\\t\\n\\t\\t\\t\\t\\t\\t<a href=\"/movie/point/af/list.naver?st=mcode&sword=171539\" onclick=\"clickcr(this,\\'npt*a.list\\',\\'171539\\',\\'3\\',event);\" class=\"ls\" title=\"그린 북\">\\n\\t\\t\\t\\t\\t\\t그린 북</a><span class=\"num b\">9.6</span>\\n\\t\\t\\t\\t\\t\\n\\t\\t\\t\\t\\t\\t\\t\\t\\t\\t\\t\\t\\n\\t\\t\\t\\t</li>\\n\\t\\t\\t\\n\\t\\t\\t\\t<li class=\"1st ranking04\">\\n\\t\\t\\t\\t\\t<span class=\"blind\">4위</span>\\n\\t\\t\\t\\t\\t\\n\\t\\t\\t\\t\\t\\n\\t\\t\\t\\t\\t\\t<a href=\"/movie/point/af/list.naver?st=mcode&sword=174830\" onclick=\"clickcr(this,\\'npt*a.list\\',\\'174830\\',\\'4\\',event);\" class=\"ls\" title=\"가버나움\">\\n\\t\\t\\t\\t\\t\\t가버나움</a><span class=\"num b\">9.59</span>\\n\\t\\t\\t\\t\\t\\n\\t\\t\\t\\t\\t\\t\\t\\t\\t\\t\\t\\t\\n\\t\\t\\t\\t</li>\\n\\t\\t\\t\\n\\t\\t\\t\\t<li class=\"1st ranking05\">\\n\\t\\t\\t\\t\\t<span class=\"blind\">5위</span>\\n\\t\\t\\t\\t\\t\\n\\t\\t\\t\\t\\t\\n\\t\\t\\t\\t\\t\\t<a href=\"/movie/point/af/list.naver?st=mcode&sword=186114\" onclick=\"clickcr(this,\\'npt*a.list\\',\\'186114\\',\\'5\\',event);\" class=\"ls\" title=\"밥정\">\\n\\t\\t\\t\\t\\t\\t밥정</a><span class=\"num b\">9.56</span>\\n\\t\\t\\t\\t\\t\\n\\t\\t\\t\\t\\t\\t\\t\\t\\t\\t\\t\\t\\n\\t\\t\\t\\t</li>\\n\\t\\t\\t\\t\\t\\t\\t\\t\\n\\t\\t</ul>\\n\\t\\t<a href=\"/movie/sdb/rank/rmovie.naver?sel=pnt\" onclick=\"clickcr(this,\\'npt.more\\',\\'\\',\\'\\',event);\" class=\"more\">더보기</a><!-- 모든영화의 더보기 -->\\n\\t\\t<p class=\"term\" style=\"padding:0 13px 7px 0;\">2022.08.09<img src=\"https://ssl.pstatic.net/imgmovie/2007/img/community/txt_righ_point.gif\" alt=\"까지의 관람후 누적 평점\" width=\"88\" height=\"9\"></p>\\n\\t</div>\\n\\t<!-- //네티즌 최고 평점 -->\\n  \\r\\n\\r\\n\\t \\n\\n\\n\\n<!-- 가장 많이 추천된 리뷰 -->\\n<div class=\"box_type_1 mb_8\">\\n\\t<h3><img src=\"https://ssl.pstatic.net/imgmovie/2007/img/community/tlt_r_best_review_reco.gif\" alt=\"가장 많이 추천된 리뷰\" width=\"103\" height=\"12\"></h3>\\n\\t<dl class=\"ranking_data\">\\n\\t\\t\\n\\t\\t\\t<dt class=\"ranking01\">\\n\\t\\t\\t\\t<span class=\"blind\">1위</span>\\n\\t\\t\\t\\t\\n\\t\\t\\t\\t\\t<a href=\"/movie/board/review/read.naver?nid=4810033\" onclick=\"clickcr(this,\\'rcr.title\\',\\'4810033\\',\\'1\\',event);\" class=\"b\" title=\"&lt;비상선언&gt;을 비추선언한다 - 스포일러 리뷰\">&lt;비상선언&gt;을 비추선..</a>\\n\\t\\t\\t\\t\\n\\t\\t\\t\\t\\n\\t\\t\\t\\t\\n\\t\\t\\t</dt>\\n\\t\\t\\t<dd>\\n\\t\\t\\t\\t\\n\\t\\t\\t\\t\\t<a href=\"/movie/bi/mi/basic.naver?code=184519\" onclick=\"clickcr(this,\\'rcr.movie\\',\\'184519\\',\\'1\\',event);\" class=\"check\" title=\"비상선언\">비상선언</a><a href=\"/movie/board/review/list.naver?st=nickname&sword=4810033\" onclick=\"clickcr(this,\\'rcr.id\\',\\'stonela\\',\\'1\\',event);\" class=\"nick check\">ston****</a>\\n\\t\\t\\t\\t\\n\\t\\t\\t\\t\\n\\t\\t\\t</dd>\\n\\t\\t\\n\\t\\t\\t<dt class=\"ranking02\">\\n\\t\\t\\t\\t<span class=\"blind\">2위</span>\\n\\t\\t\\t\\t\\n\\t\\t\\t\\t\\n\\t\\t\\t\\t\\t<a href=\"/movie/board/review/read.naver?nid=4809954\" onclick=\"clickcr(this,\\'rcr.title\\',\\'4809954\\',\\'2\\',event);\" title=\"[영화 리뷰] 영화 한산, 거북선에 대한 집착\">[영화 리뷰] 영화 한산, 거..</a>\\n\\t\\t\\t\\t\\n\\t\\t\\t\\t\\n\\t\\t\\t</dt>\\n\\t\\t\\t<dd>\\n\\t\\t\\t\\t\\n\\t\\t\\t\\t\\n\\t\\t\\t\\t\\t<a href=\"/movie/bi/mi/basic.naver?code=194196\" onclick=\"clickcr(this,\\'rcr.movie\\',\\'194196\\',\\'2\\',event);\" title=\"한산: 용의 출현\">한산: 용의 출현</a> <a href=\"/movie/board/review/list.naver?st=nickname&sword=4809954\" onclick=\"clickcr(this,\\'rcr.id\\',\\'greenman300\\',\\'2\\',event);\" class=\"nick\">gree****</a>\\n\\t\\t\\t\\t\\n\\t\\t\\t</dd>\\n\\t\\t\\n\\t\\t\\t<dt class=\"ranking03\">\\n\\t\\t\\t\\t<span class=\"blind\">3위</span>\\n\\t\\t\\t\\t\\n\\t\\t\\t\\t\\n\\t\\t\\t\\t\\t<a href=\"/movie/board/review/read.naver?nid=4810013\" onclick=\"clickcr(this,\\'rcr.title\\',\\'4810013\\',\\'3\\',event);\" title=\"비상선언 ( 어쩌면 재난 영화보다 더 무서운 현실 )-평점 5.5점\">비상선언 ( 어쩌면 재난 영..</a>\\n\\t\\t\\t\\t\\n\\t\\t\\t\\t\\n\\t\\t\\t</dt>\\n\\t\\t\\t<dd>\\n\\t\\t\\t\\t\\n\\t\\t\\t\\t\\n\\t\\t\\t\\t\\t<a href=\"/movie/bi/mi/basic.naver?code=184519\" onclick=\"clickcr(this,\\'rcr.movie\\',\\'184519\\',\\'3\\',event);\" title=\"비상선언\">비상선언</a> <a href=\"/movie/board/review/list.naver?st=nickname&sword=4810013\" onclick=\"clickcr(this,\\'rcr.id\\',\\'renorous\\',\\'3\\',event);\" class=\"nick\">reno****</a>\\n\\t\\t\\t\\t\\n\\t\\t\\t</dd>\\n\\t\\t\\n\\t\\t\\t<dt class=\"ranking04\">\\n\\t\\t\\t\\t<span class=\"blind\">4위</span>\\n\\t\\t\\t\\t\\n\\t\\t\\t\\t\\n\\t\\t\\t\\t\\t<a href=\"/movie/board/review/read.naver?nid=4810001\" onclick=\"clickcr(this,\\'rcr.title\\',\\'4810001\\',\\'4\\',event);\" title=\"상남자 주원 모습에 신인배우로 착각\">상남자 주원 모습에 신인배..</a>\\n\\t\\t\\t\\t\\n\\t\\t\\t\\t\\n\\t\\t\\t</dt>\\n\\t\\t\\t<dd>\\n\\t\\t\\t\\t\\n\\t\\t\\t\\t\\n\\t\\t\\t\\t\\t<a href=\"/movie/bi/mi/basic.naver?code=203101\" onclick=\"clickcr(this,\\'rcr.movie\\',\\'203101\\',\\'4\\',event);\" title=\"카터\">카터</a> <a href=\"/movie/board/review/list.naver?st=nickname&sword=4810001\" onclick=\"clickcr(this,\\'rcr.id\\',\\'thedreammedia\\',\\'4\\',event);\" class=\"nick\">thed****</a>\\n\\t\\t\\t\\t\\n\\t\\t\\t</dd>\\n\\t\\t\\n\\t\\t\\t<dt class=\"ranking05\">\\n\\t\\t\\t\\t<span class=\"blind\">5위</span>\\n\\t\\t\\t\\t\\n\\t\\t\\t\\t\\n\\t\\t\\t\\t\\t<a href=\"/movie/board/review/read.naver?nid=4810047\" onclick=\"clickcr(this,\\'rcr.title\\',\\'4810047\\',\\'5\\',event);\" title=\"할리우드 액션영화에 버금가는 작품\">할리우드 액션영화에 버금가..</a>\\n\\t\\t\\t\\t\\n\\t\\t\\t\\t\\n\\t\\t\\t</dt>\\n\\t\\t\\t<dd>\\n\\t\\t\\t\\t\\n\\t\\t\\t\\t\\n\\t\\t\\t\\t\\t<a href=\"/movie/bi/mi/basic.naver?code=203101\" onclick=\"clickcr(this,\\'rcr.movie\\',\\'203101\\',\\'5\\',event);\" title=\"카터\">카터</a> <a href=\"/movie/board/review/list.naver?st=nickname&sword=4810047\" onclick=\"clickcr(this,\\'rcr.id\\',\\'thedreammedia\\',\\'5\\',event);\" class=\"nick\">thed****</a>\\n\\t\\t\\t\\t\\n\\t\\t\\t</dd>\\n\\t\\t\\n\\t</dl>\\n\\t<p class=\"term\" style=\"padding:0 13px 7px 0;\">2022.08.02-2022.08.09</p>\\n</div>\\n<!-- //가장 많이 추천된 리뷰 -->\\n  \\r\\n\\r\\n\\r\\n\\t\\r\\n\\t\\r\\n\\t\\r\\n\\t\\r\\n\\t\\r\\n\\t\\t\\r\\n\\t\\r\\n\\t\\r\\n\\t\\t\\r\\n\\t\\r\\n\\r\\n\\r\\n\\t\\t\\t\\t\\t</div>\\r\\n\\t\\t\\t\\t\\t<img src=\"https://ssl.pstatic.net/imgmovie/2007/img/common/blank.gif\" alt=\"\" class=\"clear\">\\r\\n\\t\\t\\t\\t</div>\\r\\n\\t\\t\\t\\t<!-- //Content Body -->\\r\\n\\r\\n\\t\\t\\t\\t</div>\\r\\n\\t\\t\\t</div>\\r\\n\\t\\t</div>\\r\\n\\t\\t<!-- //content -->\\r\\n\\t</div>\\r\\n\\t<!-- //container -->\\r\\n\\r\\n\\t<!-- Footer -->\\r\\n\\t<script type=\"text/javascript\" src=\"/common/js/jindo/component/1.0.2/jindo.Component.js\"></script>\\r\\n\\t<script type=\"text/javascript\" src=\"/common/js/jindo/component/1.0.2/jindo.UIComponent.js\"></script>\\r\\n\\t\\n\\n\\n\\n\\n\\n\\n<!-- footer -->\\n<div id=\"footer\">\\n\\t<div class=\"in_footer\">\\n\\t\\t<div class=\"foot_con\">\\n\\t\\t\\t<ul>\\n\\t\\t\\t\\t<li class=\"first\"><a href=\"http://www.naver.com/rules/service.html\" target=\"_blank\" onclick=\"clickcr(this, \\'fot.agreement\\', \\'\\', \\'\\', event);\">이용약관</a></li>\\n\\t\\t\\t\\t<li><a href=\"http://www.naver.com/rules/privacy.html\" target=\"_blank\"  onclick=\"clickcr(this, \\'fot.privacy\\', \\'\\', \\'\\', event);\"><strong>개인정보처리방침</strong></a></li>\\n\\t\\t\\t\\t<li><a href=\"http://www.naver.com/rules/disclaimer.html\" target=\"_blank\" onclick=\"clickcr(this, \\'fot.disclaimer\\', \\'\\', \\'\\', event);\">책임의 한계와 법적고지</a></li>\\n\\t\\t\\t\\t<li><a href=\"https://help.naver.com/support/service/main.nhn?serviceNo=800\" target=\"_blank\" onclick=\"clickcr(this, \\'fot.help\\', \\'\\', \\'\\', event);\">영화 고객센터</a></li>\\n\\t\\t\\t</ul>\\n\\t\\t\\t<p class=\"info\">본 콘텐츠의 저작권은 저작권자 또는 제공처에 있으며, 이를 무단 이용하는 경우 저작권법 등에 따라 법적 책임을 질 수 있습니다.</p>\\n\\t\\t\\t<p class=\"info\">\\n\\t\\t\\t\\t사업자등록번호 : 220-81-62517<span>통신판매업 신고번호</span> : 경기성남 제 2006 - 692호<span>대표이사 : 최수연</span><span><a href=\"http://www.ftc.go.kr/info/bizinfo/communicationList.jsp\" onclick=\"clickcr(this, \\'fot.bizinfo\\', \\'\\', \\'\\', event);\">사업자등록정보 확인</a></span><br>\\n\\t\\t\\t\\t주소 : 경기도 성남시 분당구 정자일로 95, NAVER 1784, 13561 <span>대표전화 : 1588-3820</span>\\n\\t\\t\\t</p>\\n\\t\\t\\t<address>\\n\\t\\t\\t\\t<a href=\"https://www.navercorp.com\" target=\"_blank\" class=\"logo\" onclick=\"clickcr(this, \\'fot.nhn\\', \\'\\', \\'\\', event);\"><img src=\"https://ssl.pstatic.net/static/movie/2013/07/logo_naver.png\" width=\"63\" height=\"11\" alt=\"NAVER\"></a>\\n\\t\\t\\t\\t<em>Copyright &copy;</em>\\n\\t\\t\\t\\t<a href=\"https://www.navercorp.com\" target=\"_blank\" onclick=\"clickcr(this, \\'fot.corp\\', \\'\\', \\'\\', event);\">NAVER Corp.</a>\\n\\t\\t\\t\\t<span>All Rights Reserved.</span>\\n\\t\\t\\t</address>\\n\\t\\t</div>\\n\\t</div>\\n</div>\\n<!-- //footer -->\\n\\n\\n\\n\\n\\r\\n\\r\\n\\r\\n\\r\\n<script type=\"text/javascript\">\\r\\n\\r\\nif (false) {\\r\\n\\tvar alertType = \"NONE\";\\r\\n\\tvar koreanTitle = \"\";\\r\\n\\tvar movieCode = \"0\";\\r\\n\\tvar userReserveCount = \"0\";\\r\\n\\tvar todayDatetime = \"20220810143034\";\\r\\n\\tvar endDatetimeAfterTwoDays = \"00000000000000\";\\r\\n\\t\\r\\n\\t\\r\\n\\tif (movieCode > 0) {\\r\\n\\t\\topenWriteActualPointAlert (alertType, koreanTitle, movieCode, userReserveCount, todayDatetime, endDatetimeAfterTwoDays);\\r\\n\\t}\\r\\n}\\r\\n\\r\\nfunction openWriteActualPointAlert (alertType, koreanTitle, movieCode, count, today, endDate) {\\r\\n\\tif (alertType == \"ONE\" || alertType == \"MORE\") {\\r\\n\\t\\tsetCookieLastUserReserveDate(today, endDate);\\r\\n\\t\\tif (confirm(\"관람하신 \" + koreanTitle + \"에\\\\n평점 등록 시 네이버페이 마일리지 500원 적립!\\\\n지금 평점쓰기 메뉴로 이동하시겠습니까?\")) {\\r\\n\\t\\t\\ttop.location.href = \"http://movie.naver.com/movie/bi/mi/point.naver?code=\" + movieCode;\\r\\n\\t\\t}\\r\\n\\t}\\r\\n\\t\\r\\n}\\r\\n\\r\\nfunction setCookieLastUserReserveDate(today, endDate) {\\r\\n\\tvar cookieForNotOpenActualPointPopup = jindo.$Cookie();\\r\\n\\t\\r\\n\\t\\r\\n\\tcookieForNotOpenActualPointPopup.remove(\"lastUserReserveDatetime\");\\r\\n\\tcookieForNotOpenActualPointPopup.remove(\"lastUserReserveCheckDatetime\");\\r\\n\\t\\r\\n\\tcookieForNotOpenActualPointPopup.set(\"lastUserReserveDatetime\", endDate, 9999, \"movie.naver.com\");\\r\\n\\tcookieForNotOpenActualPointPopup.set(\"lastUserReserveCheckDatetime\", today, 9999, \"movie.naver.com\");\\r\\n}\\r\\n\\r\\n</script>\\n\\n\\n\\n\\r\\n\\r\\n\\r\\n\\r\\n\\r\\n<script type=\"text/javascript\">\\r\\n\\t\\r\\n\\t\\t\\r\\n\\t\\t\\r\\n\\t\\t\\r\\n\\t\\t\\r\\n\\t\\t\\tvar alertMessage = \"지원되지 않는 브라우저로 서비스 이용에 제한이 있습니다.\";\\r\\n\\t\\t\\r\\n\\t\\r\\n\\r\\n\\tfunction getBrowser() {\\r\\n\\t\\tvar ua = navigator.userAgent;\\r\\n\\t\\tif (/NAVER/.test(ua)) {\\r\\n\\t\\t\\treturn \"NAVER_APP\";\\r\\n\\t\\t} else if (/IEMobile/.test(ua)) {\\r\\n\\t\\t\\treturn \"INTERNET_EXPLORER_MOBILE\";\\r\\n\\t\\t} else if (/MSIE/.test(ua) || /Trident/.test(ua)) {\\r\\n\\t\\t\\treturn \"INTERNET_EXPLORER\";\\r\\n\\t\\t} else if (/Firefox/.test(ua)) {\\r\\n\\t\\t\\treturn \"FIREFOX\";\\r\\n\\t\\t} else if (/Opera\\\\//.test(ua) || /OPR\\\\//.test(ua)) {\\r\\n\\t\\t\\treturn \"OPERA\";\\r\\n\\t\\t}  else if (/Swing\\\\//.test(ua)) {\\r\\n\\t\\t\\treturn \"SWING\";\\r\\n\\t\\t} else if (/Chrome\\\\//.test(ua) || /CriOS\\\\//.test(ua)) {\\r\\n\\t\\t\\treturn \"CHROME\";\\r\\n\\t\\t} else if (/BAND\\\\//.test(ua)) {\\r\\n\\t\\t\\treturn \"BAND_APP\";\\r\\n\\t\\t} else if (/FBAN\\\\/FBIOS/.test(ua)) {\\r\\n\\t\\t\\treturn \"FACEBOOK_APP\";\\r\\n\\t\\t} else if (/Twitter/.test(ua)) {\\r\\n\\t\\t\\treturn \"TWITTER_APP\";\\r\\n\\t\\t} else if (/KAKAOTALK/.test(ua)) {\\r\\n\\t\\t\\treturn \"KAKAOTALK_APP\";\\r\\n\\t\\t} else if (/Android/.test(ua) && /Safari/.test(ua)) {\\r\\n\\t\\t\\treturn \"ANDROID_INTERNET_APP\";\\r\\n\\t\\t} else if (/Safari/.test(ua)) {\\r\\n\\t\\t\\treturn \"SAFARI\";\\r\\n\\t\\t}\\r\\n\\r\\n\\t\\treturn \"\";\\r\\n\\t}\\r\\n\\t\\r\\n\\tif (getBrowser() === \"UNKNOWN\" && jindo.$Cookie().get(\"notSupportBrowserAlert\") != \\'true\\') {\\r\\n\\t\\talert(alertMessage);\\r\\n\\t\\tjindo.$Cookie().set(\"notSupportBrowserAlert\", \"true\", \"9999\", \"movie.naver.com\");\\r\\n\\t}\\r\\n</script>\\r\\n\\n\\n\\r\\n<script type=\"text/javascript\" src=\"/common/js/lcslog.js\"></script>\\r\\n<script type=\"text/javascript\" src=\"/common/js/jindo/component/1.0.2/jindo.Component.min.js\"></script>\\r\\n<script type=\"text/javascript\" src=\"/common/js/vendor/jindo.WatchInput.js\" charset=\"UTF-8\"></script>\\r\\n<script type=\"text/javascript\" src=\"/common/js/lib/Core.js?20220628174447\" charset=\"UTF-8\"></script>\\r\\n<script type=\"text/javascript\" src=\"/common/js/lib/LNB.js?20220628174447\" charset=\"UTF-8\"></script>\\r\\n<script type=\"text/javascript\" src=\"/common/js/lib/Search.js?20220628174447\" charset=\"UTF-8\"></script>\\r\\n\\n\\n\\n\\t\\n\\t\\n\\t\\t\\n\\t\\n\\n\\n\\n\\n\\t\\n\\t\\n\\n<script type=\"text/javascript\">\\n\\n    // nhn.movie.Search가 jindo 기반이어서 javascript로 전환함\\n    if (document.addEventListener) {\\n        document.addEventListener(\"DOMContentLoaded\", function () {\\n            document.removeEventListener(\"DOMContentLoaded\", arguments.callee, false);\\n            loadFooter();\\n        }, false);\\n    }\\n// Internet Explorer\\n    else if (document.attachEvent) {\\n        // onreadystatechange 는 모든 브라우저가 반환\\n        document.attachEvent(\"onreadystatechange\", function () {\\n            if (document.readyState == \"complete\" || document.readyState == \\'loaded\\') {\\n                document.detachEvent(\"onreadystatechange\", arguments.callee);\\n                loadFooter();\\n            }\\n        });\\n    }\\n\\n    function loadFooter() {\\n        var goNaver = document.getElementById(\"lnb_gonaver\");\\n        goNaver.addEventListener(\"focus\", focusonNaverIcon, false);\\n\\n        // LNB - 사용처를 못 찾음\\n//   \\tvar oLNB = new nhn.movie.LNB();\\n\\n        // 상단 검색영역\\n        var oSearch = new nhn.movie.Search({\\n            area : \"jSearchArea\",\\n            autosearch : \"https://auto-movie.naver.com/ac?q_enc=UTF-8&st=1&r_lt=1&n_ext=1&t_koreng=1&r_format=json&r_enc=utf-8&r_unicode=0&r_escape=1&q=\",\\n            movelink : \"/movie/bi/mi/basic.naver?code=\",\\n            peoplelink : \"/movie/bi/pi/basic.naver?code=\"\\n        });\\n\\n        getGNB();\\n    }\\n\\n    function focusonNaverIcon(event) {\\n        event.preventDefault();\\t// jindo.$Event.CANCEL_DEFAULT 와 동일한 기능으로 추측됨\\n        document.getElementById(\\'ipt_tx_srch\\').value= \"\";\\n        document.getElementById(\\'search_placeholder\\').style = \"display:inline;\";\\n        if (document.getElementById(\\'jAutoComplate\\') != undefined && document.getElementById(\\'jAutoComplate\\') !== null) {\\n            document.getElementById(\\'jAutoComplate\\').style = \"display:none;\"\\n        }\\n    }\\n\\n    \\n    window.addEventListener(\\'pageshow\\', function(event) { lcs_do(); });\\n\\n    document.addEventListener(\\'click\\', function (event) {\\n        var welSource = event.srcElement;\\t// jindo.$Element(oEvent.element);\\n        if (!document.getElementById(\"gnb\").contains(welSource)) {\\n            gnbAllLayerClose();\\n        }\\n    });\\n</script>\\n\\n\\t\\r\\n\\t<!-- //Footer -->\\r\\n\\t\\t\\t\\r\\n</div>\\r\\n\\r\\n\\r\\n</body>\\r\\n</html>\\t'"
            ],
            "application/vnd.google.colaboratory.intrinsic+json": {
              "type": "string"
            }
          },
          "metadata": {},
          "execution_count": 11
        }
      ]
    },
    {
      "cell_type": "markdown",
      "metadata": {
        "id": "UiUuj4XA46HA"
      },
      "source": [
        "### 2. BeautifulSoup 객체 생성\n",
        "\n",
        "```python\n",
        "from bs4 import BeautifulSoup as bs\n",
        "\n",
        "인스턴스명 = BeautifulSoup(markup, parser)\n",
        "```\n",
        "* 첫 번째 인자 : HTML 형식의 문자열\n",
        "* 두 번째 인자 : 첫 번째 인자의 문자열을 해석하기 위한 파서\n",
        "\n",
        "  * **파서(parser) 종류**\n",
        "    + html.parser : 파이썬 표준 라이브러리에 포함된 파서로 빠르지만 유연하지 않기 때문에 단순한 HTML문서에 사용\n",
        "\n",
        "        ```\n",
        "        BeautifulSoup(markup, \"html.parser\")\n",
        "        ```\n",
        "\n",
        "    + lxml : 매우 빠르고 유연하지만 외부 의존\n",
        "      - lxml의 HTML 파서\n",
        "          ```\n",
        "          BeautifulSoup(markup, \"lxml\")\n",
        "          ```\n",
        "      - lxml의 XML 파서\n",
        "          ```\n",
        "          BeautifulSoup(markup, \"lxml-xml\")\n",
        "          ```\n",
        "\n",
        "    + html5lib : 웹 브라우저와 동일한 방식으로 페이지 구문 분석하는 파서로 매우 느리지만 매우 유연하지만 외부 의존\n",
        "        ```\n",
        "        BeautifulSoup(markup, \"html5lib\")\n",
        "      ```"
      ]
    },
    {
      "cell_type": "code",
      "source": [
        "from bs4 import BeautifulSoup as bs"
      ],
      "metadata": {
        "id": "UyhqkD-bOSzt"
      },
      "execution_count": 7,
      "outputs": []
    },
    {
      "cell_type": "code",
      "source": [
        "naver =  bs(webpage, 'html.parser')\n",
        "type(naver)"
      ],
      "metadata": {
        "id": "BL618R9iOUYU",
        "colab": {
          "base_uri": "https://localhost:8080/"
        },
        "outputId": "ac6fed2f-52e0-491a-87a0-a69ab770f60c"
      },
      "execution_count": 12,
      "outputs": [
        {
          "output_type": "execute_result",
          "data": {
            "text/plain": [
              "bs4.BeautifulSoup"
            ]
          },
          "metadata": {},
          "execution_count": 12
        }
      ]
    },
    {
      "cell_type": "code",
      "source": [
        "trs = naver.select('#old_content > table tr')[1:]\n",
        "trs[0]"
      ],
      "metadata": {
        "colab": {
          "base_uri": "https://localhost:8080/"
        },
        "id": "JJ_o24qwNeIX",
        "outputId": "845b6c00-d041-4904-90d1-1104661c4924"
      },
      "execution_count": 15,
      "outputs": [
        {
          "output_type": "execute_result",
          "data": {
            "text/plain": [
              "<tr>\n",
              "<td class=\"ac num\">18346511</td>\n",
              "<td class=\"title\">\n",
              "<a class=\"movie color_b\" href=\"?st=mcode&amp;sword=188146&amp;target=after\">건달티처</a>\n",
              "<div class=\"list_netizen_score\">\n",
              "<span class=\"st_off\"><span class=\"st_on\" style=\"width:100%\">별점 - 총 10점 중</span></span><em>10</em>\n",
              "</div>\n",
              "<br/>대한민국 역사에 손꼽히지못함. \n",
              "\t\t\t\n",
              "\t\t\t\n",
              "\t\t\t\n",
              "\t\t\t\t\n",
              "\t\t\t\t\n",
              "\t\t\t\t\n",
              "\t\t\t\t<a class=\"report\" href=\"#\" onclick=\"report('sch1****', 'dzJxAZLDxX9fh+ycWF+YY8EnqYL1s/SJkMusLjUxZ88=', '대한민국 역사에 손꼽히지못함.', '18346511', 'point_after');\" style=\"color:#8F8F8F\" title=\"새 창\">신고</a>\n",
              "</td>\n",
              "<td class=\"num\"><a class=\"author\" href=\"javascript:find_list('nickname','18346511');\">sch1****</a><br/>22.08.10</td>\n",
              "</tr>"
            ]
          },
          "metadata": {},
          "execution_count": 15
        }
      ]
    },
    {
      "cell_type": "code",
      "source": [
        "import numpy as np"
      ],
      "metadata": {
        "id": "OM41kdz6WIi4"
      },
      "execution_count": 38,
      "outputs": []
    },
    {
      "cell_type": "code",
      "source": [
        "#1. 비어 있는 데이터프레임을 만듦\n",
        "df = pd.DataFrame(columns = {'col1', 'col2', 'col3', 'col4', 'col5', 'col6'})\n",
        "\n",
        "\n",
        "for item in trs :\n",
        "  #2. 데이터프레임에 넣을 리스트 생성(6개의 항목을 가니는 리스트)\n",
        "  lt = []\n",
        "\n",
        "  #파싱\n",
        "  tds = item.find_all(\"td\")\n",
        "\n",
        "  no = tds[0].text\n",
        "  writer = tds[1].find(\"a\").text\n",
        "  em = tds[1].find(\"em\").text\n",
        "  netizen = tds[1].text.split(\"\\n\")[5:-2]\n",
        "  netizen = ' '.join(netizen).strip()\n",
        "  author = tds[2].text\n",
        "\n",
        "  #2. 리스트 에 추가\n",
        "  lt.append(no)\n",
        "  lt.append(writer)\n",
        "  lt.append(em)\n",
        "  lt.append(netizen)\n",
        "  lt.append(author[:-8])\n",
        "  lt.append(author[-8:])\n",
        "\n",
        "  #3. 데이터프레임에 추가\n",
        "  #3-1. 인덱스값 생성\n",
        "  idx = df.index.max()\n",
        "  if np.isnan(idx) : idx = 0\n",
        "  else : idx = idx + 1\n",
        "\n",
        "  #4. 데이터 프레임에 추가\n",
        "  df.loc[idx] = lt\n",
        "  print(lt)\n",
        "  print(f'{no}, {writer}, {em}, {netizen}, {author[:-8]}, {author[-8:]}')"
      ],
      "metadata": {
        "colab": {
          "base_uri": "https://localhost:8080/"
        },
        "id": "ba04YMUPQLEX",
        "outputId": "9321d4d0-0b42-4699-8f7a-7826ecacf36e"
      },
      "execution_count": 42,
      "outputs": [
        {
          "output_type": "stream",
          "name": "stdout",
          "text": [
            "['18346511', '건달티처', '10', '대한민국 역사에 손꼽히지못함.', 'sch1****', '22.08.10']\n",
            "18346511, 건달티처, 10, 대한민국 역사에 손꼽히지못함., sch1****, 22.08.10\n",
            "['18346510', '헌트', '10', '재미있었어요 기대이상!!!', 'fair****', '22.08.10']\n",
            "18346510, 헌트, 10, 재미있었어요 기대이상!!!, fair****, 22.08.10\n",
            "['18346509', '카터', '2', '제발 주적인 북한이랑 동맹으로 안엮었으면 좋겠다 보는 내내 열받네', 'yong****', '22.08.10']\n",
            "18346509, 카터, 2, 제발 주적인 북한이랑 동맹으로 안엮었으면 좋겠다 보는 내내 열받네, yong****, 22.08.10\n",
            "['18346508', '헌트', '8', '각자의 사상,각자의 신념', 'ansg****', '22.08.10']\n",
            "18346508, 헌트, 8, 각자의 사상,각자의 신념, ansg****, 22.08.10\n",
            "['18346507', '비상선언', '5', '런닝타임을 반으로 잘라서 앞 뒤를 쪼갠 2부작이였다면, 1부는 성공, 2부는 폭망인 영화. 이런 장르 영화에 후반부 스토리는 예상을 하고 가지만 좀 더 짧고 간결하게 다른 연출 방식을 택했으면 어땠을까 하는 아쉬움.', 'take****', '22.08.10']\n",
            "18346507, 비상선언, 5, 런닝타임을 반으로 잘라서 앞 뒤를 쪼갠 2부작이였다면, 1부는 성공, 2부는 폭망인 영화. 이런 장르 영화에 후반부 스토리는 예상을 하고 가지만 좀 더 짧고 간결하게 다른 연출 방식을 택했으면 어땠을까 하는 아쉬움., take****, 22.08.10\n",
            "['18346506', '비상선언', '1', '배우가 아깝다특히 회항하는 부분부터는 영화관 안나간걸 후회중..', 'harr****', '22.08.10']\n",
            "18346506, 비상선언, 1, 배우가 아깝다특히 회항하는 부분부터는 영화관 안나간걸 후회중.., harr****, 22.08.10\n",
            "['18346505', '헌트', '8', '총격씬에 매우 공들인 티가 납니다 하지만 고문장면이 많고 길어서 보기가 힘들었습니다 !! ㅠㅠ', 'seun****', '22.08.10']\n",
            "18346505, 헌트, 8, 총격씬에 매우 공들인 티가 납니다 하지만 고문장면이 많고 길어서 보기가 힘들었습니다 !! ㅠㅠ, seun****, 22.08.10\n",
            "['18346504', '헌트', '10', '배우들 연기도 뛰어났고 스토리도 짱짱하니 감동깊게 관람했습니다', 'pure****', '22.08.10']\n",
            "18346504, 헌트, 10, 배우들 연기도 뛰어났고 스토리도 짱짱하니 감동깊게 관람했습니다, pure****, 22.08.10\n",
            "['18346503', '헌트', '8', '초심자의 행운을 제대로 보여준 이정재의 첫 감독데뷔작', 'kjh8****', '22.08.10']\n",
            "18346503, 헌트, 8, 초심자의 행운을 제대로 보여준 이정재의 첫 감독데뷔작, kjh8****, 22.08.10\n",
            "['18346502', '한산: 용의 출현', '10', '심장 쫄리면서 너무 재밌게 본 영화.. 한번 더 보고싶네요..!', 'love****', '22.08.10']\n",
            "18346502, 한산: 용의 출현, 10, 심장 쫄리면서 너무 재밌게 본 영화.. 한번 더 보고싶네요..!, love****, 22.08.10\n"
          ]
        }
      ]
    },
    {
      "cell_type": "code",
      "source": [
        "df.columns = ['번호', '영화명', '평점', '리뷰', '아이디', '작성일']\n",
        "df"
      ],
      "metadata": {
        "colab": {
          "base_uri": "https://localhost:8080/",
          "height": 363
        },
        "id": "ER3u8iJiWwX4",
        "outputId": "2be492d1-543e-4c50-efbd-21b56176f107"
      },
      "execution_count": 46,
      "outputs": [
        {
          "output_type": "execute_result",
          "data": {
            "text/plain": [
              "         번호        영화명  평점                                                 리뷰  \\\n",
              "0  18346511       건달티처  10                                   대한민국 역사에 손꼽히지못함.   \n",
              "1  18346510         헌트  10                                     재미있었어요 기대이상!!!   \n",
              "2  18346509         카터   2               제발 주적인 북한이랑 동맹으로 안엮었으면 좋겠다 보는 내내 열받네   \n",
              "3  18346508         헌트   8                                      각자의 사상,각자의 신념   \n",
              "4  18346507       비상선언   5  런닝타임을 반으로 잘라서 앞 뒤를 쪼갠 2부작이였다면, 1부는 성공, 2부는 폭망인...   \n",
              "5  18346506       비상선언   1                배우가 아깝다특히 회항하는 부분부터는 영화관 안나간걸 후회중..   \n",
              "6  18346505         헌트   8  총격씬에 매우 공들인 티가 납니다 하지만 고문장면이 많고 길어서 보기가 힘들었습니다...   \n",
              "7  18346504         헌트  10                 배우들 연기도 뛰어났고 스토리도 짱짱하니 감동깊게 관람했습니다   \n",
              "8  18346503         헌트   8                      초심자의 행운을 제대로 보여준 이정재의 첫 감독데뷔작   \n",
              "9  18346502  한산: 용의 출현  10                심장 쫄리면서 너무 재밌게 본 영화.. 한번 더 보고싶네요..!   \n",
              "\n",
              "        아이디       작성일  \n",
              "0  sch1****  22.08.10  \n",
              "1  fair****  22.08.10  \n",
              "2  yong****  22.08.10  \n",
              "3  ansg****  22.08.10  \n",
              "4  take****  22.08.10  \n",
              "5  harr****  22.08.10  \n",
              "6  seun****  22.08.10  \n",
              "7  pure****  22.08.10  \n",
              "8  kjh8****  22.08.10  \n",
              "9  love****  22.08.10  "
            ],
            "text/html": [
              "\n",
              "  <div id=\"df-6bccff17-10ad-438f-80a1-c44e141012bc\">\n",
              "    <div class=\"colab-df-container\">\n",
              "      <div>\n",
              "<style scoped>\n",
              "    .dataframe tbody tr th:only-of-type {\n",
              "        vertical-align: middle;\n",
              "    }\n",
              "\n",
              "    .dataframe tbody tr th {\n",
              "        vertical-align: top;\n",
              "    }\n",
              "\n",
              "    .dataframe thead th {\n",
              "        text-align: right;\n",
              "    }\n",
              "</style>\n",
              "<table border=\"1\" class=\"dataframe\">\n",
              "  <thead>\n",
              "    <tr style=\"text-align: right;\">\n",
              "      <th></th>\n",
              "      <th>번호</th>\n",
              "      <th>영화명</th>\n",
              "      <th>평점</th>\n",
              "      <th>리뷰</th>\n",
              "      <th>아이디</th>\n",
              "      <th>작성일</th>\n",
              "    </tr>\n",
              "  </thead>\n",
              "  <tbody>\n",
              "    <tr>\n",
              "      <th>0</th>\n",
              "      <td>18346511</td>\n",
              "      <td>건달티처</td>\n",
              "      <td>10</td>\n",
              "      <td>대한민국 역사에 손꼽히지못함.</td>\n",
              "      <td>sch1****</td>\n",
              "      <td>22.08.10</td>\n",
              "    </tr>\n",
              "    <tr>\n",
              "      <th>1</th>\n",
              "      <td>18346510</td>\n",
              "      <td>헌트</td>\n",
              "      <td>10</td>\n",
              "      <td>재미있었어요 기대이상!!!</td>\n",
              "      <td>fair****</td>\n",
              "      <td>22.08.10</td>\n",
              "    </tr>\n",
              "    <tr>\n",
              "      <th>2</th>\n",
              "      <td>18346509</td>\n",
              "      <td>카터</td>\n",
              "      <td>2</td>\n",
              "      <td>제발 주적인 북한이랑 동맹으로 안엮었으면 좋겠다 보는 내내 열받네</td>\n",
              "      <td>yong****</td>\n",
              "      <td>22.08.10</td>\n",
              "    </tr>\n",
              "    <tr>\n",
              "      <th>3</th>\n",
              "      <td>18346508</td>\n",
              "      <td>헌트</td>\n",
              "      <td>8</td>\n",
              "      <td>각자의 사상,각자의 신념</td>\n",
              "      <td>ansg****</td>\n",
              "      <td>22.08.10</td>\n",
              "    </tr>\n",
              "    <tr>\n",
              "      <th>4</th>\n",
              "      <td>18346507</td>\n",
              "      <td>비상선언</td>\n",
              "      <td>5</td>\n",
              "      <td>런닝타임을 반으로 잘라서 앞 뒤를 쪼갠 2부작이였다면, 1부는 성공, 2부는 폭망인...</td>\n",
              "      <td>take****</td>\n",
              "      <td>22.08.10</td>\n",
              "    </tr>\n",
              "    <tr>\n",
              "      <th>5</th>\n",
              "      <td>18346506</td>\n",
              "      <td>비상선언</td>\n",
              "      <td>1</td>\n",
              "      <td>배우가 아깝다특히 회항하는 부분부터는 영화관 안나간걸 후회중..</td>\n",
              "      <td>harr****</td>\n",
              "      <td>22.08.10</td>\n",
              "    </tr>\n",
              "    <tr>\n",
              "      <th>6</th>\n",
              "      <td>18346505</td>\n",
              "      <td>헌트</td>\n",
              "      <td>8</td>\n",
              "      <td>총격씬에 매우 공들인 티가 납니다 하지만 고문장면이 많고 길어서 보기가 힘들었습니다...</td>\n",
              "      <td>seun****</td>\n",
              "      <td>22.08.10</td>\n",
              "    </tr>\n",
              "    <tr>\n",
              "      <th>7</th>\n",
              "      <td>18346504</td>\n",
              "      <td>헌트</td>\n",
              "      <td>10</td>\n",
              "      <td>배우들 연기도 뛰어났고 스토리도 짱짱하니 감동깊게 관람했습니다</td>\n",
              "      <td>pure****</td>\n",
              "      <td>22.08.10</td>\n",
              "    </tr>\n",
              "    <tr>\n",
              "      <th>8</th>\n",
              "      <td>18346503</td>\n",
              "      <td>헌트</td>\n",
              "      <td>8</td>\n",
              "      <td>초심자의 행운을 제대로 보여준 이정재의 첫 감독데뷔작</td>\n",
              "      <td>kjh8****</td>\n",
              "      <td>22.08.10</td>\n",
              "    </tr>\n",
              "    <tr>\n",
              "      <th>9</th>\n",
              "      <td>18346502</td>\n",
              "      <td>한산: 용의 출현</td>\n",
              "      <td>10</td>\n",
              "      <td>심장 쫄리면서 너무 재밌게 본 영화.. 한번 더 보고싶네요..!</td>\n",
              "      <td>love****</td>\n",
              "      <td>22.08.10</td>\n",
              "    </tr>\n",
              "  </tbody>\n",
              "</table>\n",
              "</div>\n",
              "      <button class=\"colab-df-convert\" onclick=\"convertToInteractive('df-6bccff17-10ad-438f-80a1-c44e141012bc')\"\n",
              "              title=\"Convert this dataframe to an interactive table.\"\n",
              "              style=\"display:none;\">\n",
              "        \n",
              "  <svg xmlns=\"http://www.w3.org/2000/svg\" height=\"24px\"viewBox=\"0 0 24 24\"\n",
              "       width=\"24px\">\n",
              "    <path d=\"M0 0h24v24H0V0z\" fill=\"none\"/>\n",
              "    <path d=\"M18.56 5.44l.94 2.06.94-2.06 2.06-.94-2.06-.94-.94-2.06-.94 2.06-2.06.94zm-11 1L8.5 8.5l.94-2.06 2.06-.94-2.06-.94L8.5 2.5l-.94 2.06-2.06.94zm10 10l.94 2.06.94-2.06 2.06-.94-2.06-.94-.94-2.06-.94 2.06-2.06.94z\"/><path d=\"M17.41 7.96l-1.37-1.37c-.4-.4-.92-.59-1.43-.59-.52 0-1.04.2-1.43.59L10.3 9.45l-7.72 7.72c-.78.78-.78 2.05 0 2.83L4 21.41c.39.39.9.59 1.41.59.51 0 1.02-.2 1.41-.59l7.78-7.78 2.81-2.81c.8-.78.8-2.07 0-2.86zM5.41 20L4 18.59l7.72-7.72 1.47 1.35L5.41 20z\"/>\n",
              "  </svg>\n",
              "      </button>\n",
              "      \n",
              "  <style>\n",
              "    .colab-df-container {\n",
              "      display:flex;\n",
              "      flex-wrap:wrap;\n",
              "      gap: 12px;\n",
              "    }\n",
              "\n",
              "    .colab-df-convert {\n",
              "      background-color: #E8F0FE;\n",
              "      border: none;\n",
              "      border-radius: 50%;\n",
              "      cursor: pointer;\n",
              "      display: none;\n",
              "      fill: #1967D2;\n",
              "      height: 32px;\n",
              "      padding: 0 0 0 0;\n",
              "      width: 32px;\n",
              "    }\n",
              "\n",
              "    .colab-df-convert:hover {\n",
              "      background-color: #E2EBFA;\n",
              "      box-shadow: 0px 1px 2px rgba(60, 64, 67, 0.3), 0px 1px 3px 1px rgba(60, 64, 67, 0.15);\n",
              "      fill: #174EA6;\n",
              "    }\n",
              "\n",
              "    [theme=dark] .colab-df-convert {\n",
              "      background-color: #3B4455;\n",
              "      fill: #D2E3FC;\n",
              "    }\n",
              "\n",
              "    [theme=dark] .colab-df-convert:hover {\n",
              "      background-color: #434B5C;\n",
              "      box-shadow: 0px 1px 3px 1px rgba(0, 0, 0, 0.15);\n",
              "      filter: drop-shadow(0px 1px 2px rgba(0, 0, 0, 0.3));\n",
              "      fill: #FFFFFF;\n",
              "    }\n",
              "  </style>\n",
              "\n",
              "      <script>\n",
              "        const buttonEl =\n",
              "          document.querySelector('#df-6bccff17-10ad-438f-80a1-c44e141012bc button.colab-df-convert');\n",
              "        buttonEl.style.display =\n",
              "          google.colab.kernel.accessAllowed ? 'block' : 'none';\n",
              "\n",
              "        async function convertToInteractive(key) {\n",
              "          const element = document.querySelector('#df-6bccff17-10ad-438f-80a1-c44e141012bc');\n",
              "          const dataTable =\n",
              "            await google.colab.kernel.invokeFunction('convertToInteractive',\n",
              "                                                     [key], {});\n",
              "          if (!dataTable) return;\n",
              "\n",
              "          const docLinkHtml = 'Like what you see? Visit the ' +\n",
              "            '<a target=\"_blank\" href=https://colab.research.google.com/notebooks/data_table.ipynb>data table notebook</a>'\n",
              "            + ' to learn more about interactive tables.';\n",
              "          element.innerHTML = '';\n",
              "          dataTable['output_type'] = 'display_data';\n",
              "          await google.colab.output.renderOutput(dataTable, element);\n",
              "          const docLink = document.createElement('div');\n",
              "          docLink.innerHTML = docLinkHtml;\n",
              "          element.appendChild(docLink);\n",
              "        }\n",
              "      </script>\n",
              "    </div>\n",
              "  </div>\n",
              "  "
            ]
          },
          "metadata": {},
          "execution_count": 46
        }
      ]
    },
    {
      "cell_type": "code",
      "source": [
        "df.info()"
      ],
      "metadata": {
        "colab": {
          "base_uri": "https://localhost:8080/"
        },
        "id": "WSPWiixgX4Oo",
        "outputId": "733cc6ce-3390-4810-f19b-a18976ffa5d0"
      },
      "execution_count": 47,
      "outputs": [
        {
          "output_type": "stream",
          "name": "stdout",
          "text": [
            "<class 'pandas.core.frame.DataFrame'>\n",
            "Int64Index: 10 entries, 0 to 9\n",
            "Data columns (total 6 columns):\n",
            " #   Column  Non-Null Count  Dtype \n",
            "---  ------  --------------  ----- \n",
            " 0   번호      10 non-null     object\n",
            " 1   영화명     10 non-null     object\n",
            " 2   평점      10 non-null     object\n",
            " 3   리뷰      10 non-null     object\n",
            " 4   아이디     10 non-null     object\n",
            " 5   작성일     10 non-null     object\n",
            "dtypes: object(6)\n",
            "memory usage: 560.0+ bytes\n"
          ]
        }
      ]
    },
    {
      "cell_type": "code",
      "source": [
        "df['평점'] = df['평점'].astype('int')\n",
        "df.info()"
      ],
      "metadata": {
        "colab": {
          "base_uri": "https://localhost:8080/"
        },
        "id": "9pn7rOliX7lo",
        "outputId": "95924434-317e-4493-d0ba-1d222b0064d6"
      },
      "execution_count": 49,
      "outputs": [
        {
          "output_type": "stream",
          "name": "stdout",
          "text": [
            "<class 'pandas.core.frame.DataFrame'>\n",
            "Int64Index: 10 entries, 0 to 9\n",
            "Data columns (total 6 columns):\n",
            " #   Column  Non-Null Count  Dtype \n",
            "---  ------  --------------  ----- \n",
            " 0   번호      10 non-null     object\n",
            " 1   영화명     10 non-null     object\n",
            " 2   평점      10 non-null     int64 \n",
            " 3   리뷰      10 non-null     object\n",
            " 4   아이디     10 non-null     object\n",
            " 5   작성일     10 non-null     object\n",
            "dtypes: int64(1), object(5)\n",
            "memory usage: 560.0+ bytes\n"
          ]
        }
      ]
    },
    {
      "cell_type": "code",
      "source": [
        "dfg = df.groupby('영화명').mean()\n",
        "dfg"
      ],
      "metadata": {
        "colab": {
          "base_uri": "https://localhost:8080/",
          "height": 238
        },
        "id": "iU0CeGveYET3",
        "outputId": "414ab93d-a8cc-4489-b84c-444c7107b025"
      },
      "execution_count": 51,
      "outputs": [
        {
          "output_type": "execute_result",
          "data": {
            "text/plain": [
              "             평점\n",
              "영화명            \n",
              "건달티처       10.0\n",
              "비상선언        3.0\n",
              "카터          2.0\n",
              "한산: 용의 출현  10.0\n",
              "헌트          8.8"
            ],
            "text/html": [
              "\n",
              "  <div id=\"df-0cbd456d-3afb-4ecd-b695-4f4f2dc51753\">\n",
              "    <div class=\"colab-df-container\">\n",
              "      <div>\n",
              "<style scoped>\n",
              "    .dataframe tbody tr th:only-of-type {\n",
              "        vertical-align: middle;\n",
              "    }\n",
              "\n",
              "    .dataframe tbody tr th {\n",
              "        vertical-align: top;\n",
              "    }\n",
              "\n",
              "    .dataframe thead th {\n",
              "        text-align: right;\n",
              "    }\n",
              "</style>\n",
              "<table border=\"1\" class=\"dataframe\">\n",
              "  <thead>\n",
              "    <tr style=\"text-align: right;\">\n",
              "      <th></th>\n",
              "      <th>평점</th>\n",
              "    </tr>\n",
              "    <tr>\n",
              "      <th>영화명</th>\n",
              "      <th></th>\n",
              "    </tr>\n",
              "  </thead>\n",
              "  <tbody>\n",
              "    <tr>\n",
              "      <th>건달티처</th>\n",
              "      <td>10.0</td>\n",
              "    </tr>\n",
              "    <tr>\n",
              "      <th>비상선언</th>\n",
              "      <td>3.0</td>\n",
              "    </tr>\n",
              "    <tr>\n",
              "      <th>카터</th>\n",
              "      <td>2.0</td>\n",
              "    </tr>\n",
              "    <tr>\n",
              "      <th>한산: 용의 출현</th>\n",
              "      <td>10.0</td>\n",
              "    </tr>\n",
              "    <tr>\n",
              "      <th>헌트</th>\n",
              "      <td>8.8</td>\n",
              "    </tr>\n",
              "  </tbody>\n",
              "</table>\n",
              "</div>\n",
              "      <button class=\"colab-df-convert\" onclick=\"convertToInteractive('df-0cbd456d-3afb-4ecd-b695-4f4f2dc51753')\"\n",
              "              title=\"Convert this dataframe to an interactive table.\"\n",
              "              style=\"display:none;\">\n",
              "        \n",
              "  <svg xmlns=\"http://www.w3.org/2000/svg\" height=\"24px\"viewBox=\"0 0 24 24\"\n",
              "       width=\"24px\">\n",
              "    <path d=\"M0 0h24v24H0V0z\" fill=\"none\"/>\n",
              "    <path d=\"M18.56 5.44l.94 2.06.94-2.06 2.06-.94-2.06-.94-.94-2.06-.94 2.06-2.06.94zm-11 1L8.5 8.5l.94-2.06 2.06-.94-2.06-.94L8.5 2.5l-.94 2.06-2.06.94zm10 10l.94 2.06.94-2.06 2.06-.94-2.06-.94-.94-2.06-.94 2.06-2.06.94z\"/><path d=\"M17.41 7.96l-1.37-1.37c-.4-.4-.92-.59-1.43-.59-.52 0-1.04.2-1.43.59L10.3 9.45l-7.72 7.72c-.78.78-.78 2.05 0 2.83L4 21.41c.39.39.9.59 1.41.59.51 0 1.02-.2 1.41-.59l7.78-7.78 2.81-2.81c.8-.78.8-2.07 0-2.86zM5.41 20L4 18.59l7.72-7.72 1.47 1.35L5.41 20z\"/>\n",
              "  </svg>\n",
              "      </button>\n",
              "      \n",
              "  <style>\n",
              "    .colab-df-container {\n",
              "      display:flex;\n",
              "      flex-wrap:wrap;\n",
              "      gap: 12px;\n",
              "    }\n",
              "\n",
              "    .colab-df-convert {\n",
              "      background-color: #E8F0FE;\n",
              "      border: none;\n",
              "      border-radius: 50%;\n",
              "      cursor: pointer;\n",
              "      display: none;\n",
              "      fill: #1967D2;\n",
              "      height: 32px;\n",
              "      padding: 0 0 0 0;\n",
              "      width: 32px;\n",
              "    }\n",
              "\n",
              "    .colab-df-convert:hover {\n",
              "      background-color: #E2EBFA;\n",
              "      box-shadow: 0px 1px 2px rgba(60, 64, 67, 0.3), 0px 1px 3px 1px rgba(60, 64, 67, 0.15);\n",
              "      fill: #174EA6;\n",
              "    }\n",
              "\n",
              "    [theme=dark] .colab-df-convert {\n",
              "      background-color: #3B4455;\n",
              "      fill: #D2E3FC;\n",
              "    }\n",
              "\n",
              "    [theme=dark] .colab-df-convert:hover {\n",
              "      background-color: #434B5C;\n",
              "      box-shadow: 0px 1px 3px 1px rgba(0, 0, 0, 0.15);\n",
              "      filter: drop-shadow(0px 1px 2px rgba(0, 0, 0, 0.3));\n",
              "      fill: #FFFFFF;\n",
              "    }\n",
              "  </style>\n",
              "\n",
              "      <script>\n",
              "        const buttonEl =\n",
              "          document.querySelector('#df-0cbd456d-3afb-4ecd-b695-4f4f2dc51753 button.colab-df-convert');\n",
              "        buttonEl.style.display =\n",
              "          google.colab.kernel.accessAllowed ? 'block' : 'none';\n",
              "\n",
              "        async function convertToInteractive(key) {\n",
              "          const element = document.querySelector('#df-0cbd456d-3afb-4ecd-b695-4f4f2dc51753');\n",
              "          const dataTable =\n",
              "            await google.colab.kernel.invokeFunction('convertToInteractive',\n",
              "                                                     [key], {});\n",
              "          if (!dataTable) return;\n",
              "\n",
              "          const docLinkHtml = 'Like what you see? Visit the ' +\n",
              "            '<a target=\"_blank\" href=https://colab.research.google.com/notebooks/data_table.ipynb>data table notebook</a>'\n",
              "            + ' to learn more about interactive tables.';\n",
              "          element.innerHTML = '';\n",
              "          dataTable['output_type'] = 'display_data';\n",
              "          await google.colab.output.renderOutput(dataTable, element);\n",
              "          const docLink = document.createElement('div');\n",
              "          docLink.innerHTML = docLinkHtml;\n",
              "          element.appendChild(docLink);\n",
              "        }\n",
              "      </script>\n",
              "    </div>\n",
              "  </div>\n",
              "  "
            ]
          },
          "metadata": {},
          "execution_count": 51
        }
      ]
    },
    {
      "cell_type": "code",
      "source": [
        "dfg.sort_values('평점').plot(kind = 'barh')\n",
        "plt.show()"
      ],
      "metadata": {
        "colab": {
          "base_uri": "https://localhost:8080/",
          "height": 265
        },
        "id": "6hV8GxZoYM-p",
        "outputId": "157fda53-360d-4e6b-8e04-5c30587c5c83"
      },
      "execution_count": 55,
      "outputs": [
        {
          "output_type": "display_data",
          "data": {
            "text/plain": [
              "<Figure size 432x288 with 1 Axes>"
            ],
            "image/png": "[encoded data removed]"
          },
          "metadata": {
            "needs_background": "light"
          }
        }
      ]
    },
    {
      "cell_type": "markdown",
      "metadata": {
        "id": "ZvinaJXV5ZDP"
      },
      "source": [
        "### 3. **Beautiful Soup 파싱 메소드**\n",
        "+ 태그명\n",
        "  + **.find(태그명)** : 조건에 맞는 태그 1개만 찾음\n",
        "  + **.find_all(태그명)** : 조건에 맞는 모든 태그 찾음\n",
        "+ css선택자\n",
        "  + **.select_one(선택자)** : 조건에 맞는 CSS선택자 1개만 찾음\n",
        "  + **.select(선택자)** : 조건에 맞는 CSS선택자 찾음"
      ]
    }
  ]
}